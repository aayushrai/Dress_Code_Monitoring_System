{
 "cells": [
  {
   "cell_type": "code",
   "execution_count": 1,
   "id": "heard-assistant",
   "metadata": {},
   "outputs": [],
   "source": [
    "from keras.preprocessing.image import ImageDataGenerator\n",
    "from keras.models import Sequential\n",
    "from keras.layers import Conv2D, MaxPooling2D\n",
    "from keras.layers import Activation, Dropout, Flatten, Dense\n",
    "from keras.optimizers import Adam\n",
    "import keras,os\n",
    "import numpy as np\n",
    "import matplotlib.pyplot as plt"
   ]
  },
  {
   "cell_type": "code",
   "execution_count": 2,
   "id": "minimal-swift",
   "metadata": {},
   "outputs": [],
   "source": [
    "h = 300\n",
    "w = 150\n",
    "    \n",
    "model = Sequential()\n",
    "model.add(Conv2D(32, (3, 3), input_shape=( h, w,1)))\n",
    "model.add(Activation('relu'))\n",
    "model.add(MaxPooling2D(pool_size=(2, 2)))\n",
    "\n",
    "model.add(Conv2D(32, (3, 3)))\n",
    "model.add(Activation('relu'))\n",
    "model.add(MaxPooling2D(pool_size=(2, 2)))\n",
    "model.add(Dropout(0.2))\n",
    "\n",
    "model.add(Conv2D(64, (3, 3)))\n",
    "model.add(Activation('relu'))\n",
    "model.add(MaxPooling2D(pool_size=(2, 2)))\n",
    "model.add(Dropout(0.2))\n",
    "\n",
    "model.add(Conv2D(64, (3, 3)))\n",
    "model.add(Activation('relu'))\n",
    "model.add(MaxPooling2D(pool_size=(2, 2)))\n",
    "model.add(Dropout(0.2))\n",
    "\n",
    "model.add(Conv2D(64, (3, 3)))\n",
    "model.add(Activation('relu'))\n",
    "model.add(MaxPooling2D(pool_size=(2, 2)))\n",
    "model.add(Dropout(0.2))\n",
    "\n",
    "model.add(Flatten())  # this converts our 3D feature maps to 1D feature vectors\n",
    "model.add(Dense(64))\n",
    "model.add(Activation('relu'))\n",
    "model.add(Dropout(0.3))\n",
    "model.add(Dense(2,activation='softmax'))\n",
    "\n",
    "# model.compile(loss='binary_crossentropy',optimizer='rmsprop',metrics=['accuracy'])\n",
    "\n",
    "\n",
    "# opt = Adam(lr=0.005)\n",
    "model.compile(optimizer=\"adam\", loss=keras.losses.categorical_crossentropy, metrics=['accuracy'])\n"
   ]
  },
  {
   "cell_type": "code",
   "execution_count": 3,
   "id": "talented-technical",
   "metadata": {},
   "outputs": [
    {
     "name": "stdout",
     "output_type": "stream",
     "text": [
      "Found 1182 images belonging to 2 classes.\n",
      "Found 389 images belonging to 2 classes.\n",
      "1182\n",
      "389\n",
      "{'formal': 0, 'informal': 1}\n"
     ]
    }
   ],
   "source": [
    "batch_size = 10\n",
    "\n",
    "train_datagen = ImageDataGenerator(horizontal_flip=True,brightness_range=[0.3,1.0],width_shift_range=[-10,10],height_shift_range=[0,20])\n",
    "test_datagen = ImageDataGenerator(horizontal_flip=True,brightness_range=[0.3,1.0],width_shift_range=[-10,10],height_shift_range=[0,20])\n",
    "\n",
    "\n",
    "train_generator = train_datagen.flow_from_directory('croped/train', target_size=(h, w),batch_size=batch_size,color_mode=\"grayscale\") \n",
    "validation_generator = test_datagen.flow_from_directory('croped/test',target_size=(h, w),batch_size=batch_size,color_mode=\"grayscale\")\n",
    "\n",
    "print(train_generator.samples)\n",
    "print(validation_generator.samples)\n",
    "print(train_generator.class_indices)"
   ]
  },
  {
   "cell_type": "code",
   "execution_count": 4,
   "id": "physical-watts",
   "metadata": {},
   "outputs": [
    {
     "name": "stderr",
     "output_type": "stream",
     "text": [
      "/home/uchiha/.local/lib/python3.8/site-packages/tensorflow/python/keras/engine/training.py:1844: UserWarning: `Model.fit_generator` is deprecated and will be removed in a future version. Please use `Model.fit`, which supports generators.\n",
      "  warnings.warn('`Model.fit_generator` is deprecated and '\n"
     ]
    },
    {
     "name": "stdout",
     "output_type": "stream",
     "text": [
      "Epoch 1/50\n",
      "118/118 [==============================] - 36s 304ms/step - loss: 3.0906 - accuracy: 0.5239 - val_loss: 0.6892 - val_accuracy: 0.5263\n",
      "Epoch 2/50\n",
      "118/118 [==============================] - 39s 327ms/step - loss: 0.6868 - accuracy: 0.5774 - val_loss: 0.6926 - val_accuracy: 0.4868\n",
      "Epoch 3/50\n",
      "118/118 [==============================] - 37s 311ms/step - loss: 0.6872 - accuracy: 0.5158 - val_loss: 0.6779 - val_accuracy: 0.5842\n",
      "Epoch 4/50\n",
      "118/118 [==============================] - 37s 310ms/step - loss: 0.6747 - accuracy: 0.5988 - val_loss: 0.6747 - val_accuracy: 0.5684\n",
      "Epoch 5/50\n",
      "118/118 [==============================] - 37s 312ms/step - loss: 0.6635 - accuracy: 0.5944 - val_loss: 0.6613 - val_accuracy: 0.5974\n",
      "Epoch 6/50\n",
      "118/118 [==============================] - 47s 400ms/step - loss: 0.6354 - accuracy: 0.6552 - val_loss: 0.6730 - val_accuracy: 0.5526\n",
      "Epoch 7/50\n",
      "118/118 [==============================] - 40s 340ms/step - loss: 0.6192 - accuracy: 0.6570 - val_loss: 0.6597 - val_accuracy: 0.5789\n",
      "Epoch 8/50\n",
      "118/118 [==============================] - 40s 339ms/step - loss: 0.6252 - accuracy: 0.6390 - val_loss: 0.6693 - val_accuracy: 0.5553\n",
      "Epoch 9/50\n",
      "118/118 [==============================] - 42s 354ms/step - loss: 0.6107 - accuracy: 0.6673 - val_loss: 0.6595 - val_accuracy: 0.5658\n",
      "Epoch 10/50\n",
      "118/118 [==============================] - 46s 388ms/step - loss: 0.5919 - accuracy: 0.6662 - val_loss: 0.6222 - val_accuracy: 0.6368\n",
      "Epoch 11/50\n",
      "118/118 [==============================] - 48s 404ms/step - loss: 0.5920 - accuracy: 0.6732 - val_loss: 0.6318 - val_accuracy: 0.6605\n",
      "Epoch 12/50\n",
      "118/118 [==============================] - 47s 401ms/step - loss: 0.5852 - accuracy: 0.6932 - val_loss: 0.6194 - val_accuracy: 0.6395\n",
      "Epoch 13/50\n",
      "118/118 [==============================] - 46s 391ms/step - loss: 0.5721 - accuracy: 0.7164 - val_loss: 0.6999 - val_accuracy: 0.5868\n",
      "Epoch 14/50\n",
      "118/118 [==============================] - 47s 397ms/step - loss: 0.6053 - accuracy: 0.6739 - val_loss: 0.6277 - val_accuracy: 0.5947\n",
      "Epoch 15/50\n",
      "118/118 [==============================] - 46s 388ms/step - loss: 0.5858 - accuracy: 0.6914 - val_loss: 0.6215 - val_accuracy: 0.6184\n",
      "Epoch 16/50\n",
      "118/118 [==============================] - 40s 339ms/step - loss: 0.5978 - accuracy: 0.6845 - val_loss: 0.5653 - val_accuracy: 0.7026\n",
      "Epoch 17/50\n",
      "118/118 [==============================] - 40s 341ms/step - loss: 0.5772 - accuracy: 0.7123 - val_loss: 0.5681 - val_accuracy: 0.6868\n",
      "Epoch 18/50\n",
      "118/118 [==============================] - 41s 346ms/step - loss: 0.5627 - accuracy: 0.7383 - val_loss: 0.5836 - val_accuracy: 0.6553\n",
      "Epoch 19/50\n",
      "118/118 [==============================] - 41s 344ms/step - loss: 0.5674 - accuracy: 0.7297 - val_loss: 0.5842 - val_accuracy: 0.7158\n",
      "Epoch 20/50\n",
      "118/118 [==============================] - 38s 323ms/step - loss: 0.5676 - accuracy: 0.6973 - val_loss: 0.5625 - val_accuracy: 0.7105\n",
      "Epoch 21/50\n",
      "118/118 [==============================] - 39s 332ms/step - loss: 0.5399 - accuracy: 0.7292 - val_loss: 0.6538 - val_accuracy: 0.6184\n",
      "Epoch 22/50\n",
      "118/118 [==============================] - 40s 337ms/step - loss: 0.6094 - accuracy: 0.6708 - val_loss: 0.5909 - val_accuracy: 0.6526\n",
      "Epoch 23/50\n",
      "118/118 [==============================] - 38s 324ms/step - loss: 0.5286 - accuracy: 0.7278 - val_loss: 0.5681 - val_accuracy: 0.7184\n",
      "Epoch 24/50\n",
      "118/118 [==============================] - 39s 326ms/step - loss: 0.4910 - accuracy: 0.7698 - val_loss: 0.5511 - val_accuracy: 0.7105\n",
      "Epoch 25/50\n",
      "118/118 [==============================] - 39s 333ms/step - loss: 0.4940 - accuracy: 0.7554 - val_loss: 0.5421 - val_accuracy: 0.7526\n",
      "Epoch 26/50\n",
      "118/118 [==============================] - 39s 328ms/step - loss: 0.4913 - accuracy: 0.7657 - val_loss: 0.5747 - val_accuracy: 0.7342\n",
      "Epoch 27/50\n",
      "118/118 [==============================] - 39s 328ms/step - loss: 0.5104 - accuracy: 0.7386 - val_loss: 0.5589 - val_accuracy: 0.7026\n",
      "Epoch 28/50\n",
      "118/118 [==============================] - 40s 336ms/step - loss: 0.4489 - accuracy: 0.7966 - val_loss: 0.5475 - val_accuracy: 0.7368\n",
      "Epoch 29/50\n",
      "118/118 [==============================] - 39s 334ms/step - loss: 0.4635 - accuracy: 0.7916 - val_loss: 0.5148 - val_accuracy: 0.7526\n",
      "Epoch 30/50\n",
      "118/118 [==============================] - 39s 330ms/step - loss: 0.4665 - accuracy: 0.7807 - val_loss: 0.5103 - val_accuracy: 0.7579\n",
      "Epoch 31/50\n",
      "118/118 [==============================] - 41s 348ms/step - loss: 0.4557 - accuracy: 0.7963 - val_loss: 0.5065 - val_accuracy: 0.7553\n",
      "Epoch 32/50\n",
      "118/118 [==============================] - 40s 336ms/step - loss: 0.4425 - accuracy: 0.7979 - val_loss: 0.4922 - val_accuracy: 0.7816\n",
      "Epoch 33/50\n",
      "118/118 [==============================] - 39s 329ms/step - loss: 0.4539 - accuracy: 0.7911 - val_loss: 0.4735 - val_accuracy: 0.7868\n",
      "Epoch 34/50\n",
      "118/118 [==============================] - 39s 332ms/step - loss: 0.4400 - accuracy: 0.8065 - val_loss: 0.5068 - val_accuracy: 0.7553\n",
      "Epoch 35/50\n",
      "118/118 [==============================] - 40s 340ms/step - loss: 0.4691 - accuracy: 0.7883 - val_loss: 0.4271 - val_accuracy: 0.8237\n",
      "Epoch 36/50\n",
      "118/118 [==============================] - 40s 335ms/step - loss: 0.4178 - accuracy: 0.8293 - val_loss: 0.5219 - val_accuracy: 0.7368\n",
      "Epoch 37/50\n",
      "118/118 [==============================] - 43s 361ms/step - loss: 0.4573 - accuracy: 0.7930 - val_loss: 0.4818 - val_accuracy: 0.7921\n",
      "Epoch 38/50\n",
      "118/118 [==============================] - 42s 357ms/step - loss: 0.3992 - accuracy: 0.8144 - val_loss: 0.4363 - val_accuracy: 0.8079\n",
      "Epoch 39/50\n",
      "118/118 [==============================] - 43s 367ms/step - loss: 0.3820 - accuracy: 0.8436 - val_loss: 0.4746 - val_accuracy: 0.7868\n",
      "Epoch 40/50\n",
      "118/118 [==============================] - 39s 332ms/step - loss: 0.4306 - accuracy: 0.8161 - val_loss: 0.4753 - val_accuracy: 0.7526\n",
      "Epoch 41/50\n",
      "118/118 [==============================] - 44s 377ms/step - loss: 0.3750 - accuracy: 0.8342 - val_loss: 0.4806 - val_accuracy: 0.7737\n",
      "Epoch 42/50\n",
      "118/118 [==============================] - 49s 413ms/step - loss: 0.3930 - accuracy: 0.8129 - val_loss: 0.4563 - val_accuracy: 0.7947\n",
      "Epoch 43/50\n",
      "118/118 [==============================] - 43s 358ms/step - loss: 0.3831 - accuracy: 0.8303 - val_loss: 0.4096 - val_accuracy: 0.8395\n",
      "Epoch 44/50\n",
      "118/118 [==============================] - 39s 330ms/step - loss: 0.3714 - accuracy: 0.8292 - val_loss: 0.4563 - val_accuracy: 0.7842\n",
      "Epoch 45/50\n",
      "118/118 [==============================] - 43s 366ms/step - loss: 0.3868 - accuracy: 0.8345 - val_loss: 0.4295 - val_accuracy: 0.7974\n",
      "Epoch 46/50\n",
      "118/118 [==============================] - 40s 341ms/step - loss: 0.3316 - accuracy: 0.8732 - val_loss: 0.4061 - val_accuracy: 0.8237\n",
      "Epoch 47/50\n",
      "118/118 [==============================] - 39s 332ms/step - loss: 0.3410 - accuracy: 0.8598 - val_loss: 0.4045 - val_accuracy: 0.8184\n",
      "Epoch 48/50\n",
      "118/118 [==============================] - 39s 334ms/step - loss: 0.3418 - accuracy: 0.8736 - val_loss: 0.4396 - val_accuracy: 0.8000\n",
      "Epoch 49/50\n",
      "118/118 [==============================] - 39s 330ms/step - loss: 0.3466 - accuracy: 0.8576 - val_loss: 0.4546 - val_accuracy: 0.8079\n",
      "Epoch 50/50\n",
      "118/118 [==============================] - 39s 328ms/step - loss: 0.3359 - accuracy: 0.8611 - val_loss: 0.4650 - val_accuracy: 0.7947\n"
     ]
    }
   ],
   "source": [
    "history = model.fit_generator(\n",
    "        train_generator,\n",
    "        steps_per_epoch=train_generator.samples // batch_size,\n",
    "        epochs=50,\n",
    "        validation_data=validation_generator,\n",
    "        validation_steps=validation_generator.samples // batch_size)\n",
    "\n",
    "\n",
    "model.save('models/version9.h5')  # always save your weights after training or during trainin\n"
   ]
  },
  {
   "cell_type": "code",
   "execution_count": 5,
   "id": "statistical-island",
   "metadata": {},
   "outputs": [
    {
     "name": "stdout",
     "output_type": "stream",
     "text": [
      "dict_keys(['loss', 'accuracy', 'val_loss', 'val_accuracy'])\n"
     ]
    },
    {
     "data": {
      "image/png": "[encoded data removed]",
      "text/plain": [
       "<Figure size 432x288 with 1 Axes>"
      ]
     },
     "metadata": {
      "needs_background": "light"
     },
     "output_type": "display_data"
    }
   ],
   "source": [
    "print(history.history.keys())\n",
    "# summarize history for accuracy\n",
    "plt.plot(history.history['accuracy'])\n",
    "plt.plot(history.history['val_accuracy'])\n",
    "plt.title('model accuracy')\n",
    "plt.ylabel('accuracy')\n",
    "plt.xlabel('epoch')\n",
    "plt.legend(['train', 'test'], loc='upper left')\n",
    "plt.show()"
   ]
  },
  {
   "cell_type": "code",
   "execution_count": 6,
   "id": "acting-netherlands",
   "metadata": {},
   "outputs": [
    {
     "data": {
      "image/png": "[encoded data removed]",
      "text/plain": [
       "<Figure size 432x288 with 1 Axes>"
      ]
     },
     "metadata": {
      "needs_background": "light"
     },
     "output_type": "display_data"
    }
   ],
   "source": [
    "# summarize history for loss\n",
    "plt.plot(history.history['loss'])\n",
    "plt.plot(history.history['val_loss'])\n",
    "plt.title('model loss')\n",
    "plt.ylabel('loss')\n",
    "plt.xlabel('epoch')\n",
    "plt.legend(['train', 'test'], loc='upper left')\n",
    "plt.show()"
   ]
  },
  {
   "cell_type": "code",
   "execution_count": null,
   "id": "otherwise-marine",
   "metadata": {},
   "outputs": [],
   "source": []
  }
 ],
 "metadata": {
  "kernelspec": {
   "display_name": "Python 3",
   "language": "python",
   "name": "python3"
  },
  "language_info": {
   "codemirror_mode": {
    "name": "ipython",
    "version": 3
   },
   "file_extension": ".py",
   "mimetype": "text/x-python",
   "name": "python",
   "nbconvert_exporter": "python",
   "pygments_lexer": "ipython3",
   "version": "3.8.5"
  }
 },
 "nbformat": 4,
 "nbformat_minor": 5
}
