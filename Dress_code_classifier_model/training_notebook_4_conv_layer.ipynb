{
 "cells": [
  {
   "cell_type": "code",
   "execution_count": null,
   "id": "heard-assistant",
   "metadata": {},
   "outputs": [],
   "source": [
    "from keras.preprocessing.image import ImageDataGenerator\n",
    "from keras.models import Sequential\n",
    "from keras.layers import Conv2D, MaxPooling2D\n",
    "from keras.layers import Activation, Dropout, Flatten, Dense\n",
    "from keras.optimizers import Adam\n",
    "import keras,os\n",
    "import numpy as np\n",
    "import matplotlib.pyplot as plt"
   ]
  },
  {
   "cell_type": "code",
   "execution_count": null,
   "id": "minimal-swift",
   "metadata": {},
   "outputs": [],
   "source": [
    "h = 300\n",
    "w = 150\n",
    "    \n",
    "model = Sequential()\n",
    "model.add(Conv2D(32, (3, 3), input_shape=( h, w,1)))\n",
    "model.add(Activation('relu'))\n",
    "model.add(MaxPooling2D(pool_size=(2, 2)))\n",
    "\n",
    "model.add(Conv2D(32, (3, 3)))\n",
    "model.add(Activation('relu'))\n",
    "model.add(MaxPooling2D(pool_size=(2, 2)))\n",
    "model.add(Dropout(0.2))\n",
    "\n",
    "model.add(Conv2D(64, (3, 3)))\n",
    "model.add(Activation('relu'))\n",
    "model.add(MaxPooling2D(pool_size=(2, 2)))\n",
    "model.add(Dropout(0.2))\n",
    "\n",
    "model.add(Conv2D(64, (3, 3)))\n",
    "model.add(Activation('relu'))\n",
    "model.add(MaxPooling2D(pool_size=(2, 2)))\n",
    "model.add(Dropout(0.2))\n",
    "\n",
    "model.add(Flatten())  # this converts our 3D feature maps to 1D feature vectors\n",
    "model.add(Dense(64))\n",
    "model.add(Activation('relu'))\n",
    "model.add(Dropout(0.3))\n",
    "model.add(Dense(2,activation='softmax'))\n",
    "\n",
    "# model.compile(loss='binary_crossentropy',optimizer='rmsprop',metrics=['accuracy'])\n",
    "\n",
    "\n",
    "# opt = Adam(lr=0.005)\n",
    "model.compile(optimizer=\"adam\", loss=keras.losses.categorical_crossentropy, metrics=['accuracy'])\n"
   ]
  },
  {
   "cell_type": "code",
   "execution_count": 3,
   "id": "talented-technical",
   "metadata": {},
   "outputs": [
    {
     "name": "stdout",
     "output_type": "stream",
     "text": [
      "Found 1182 images belonging to 2 classes.\n",
      "Found 389 images belonging to 2 classes.\n",
      "1182\n",
      "389\n",
      "{'formal': 0, 'informal': 1}\n"
     ]
    }
   ],
   "source": [
    "batch_size = 10\n",
    "\n",
    "train_datagen = ImageDataGenerator(horizontal_flip=True,brightness_range=[0.3,1.0],width_shift_range=[-10,10],height_shift_range=[0,20])\n",
    "test_datagen = ImageDataGenerator(horizontal_flip=True,brightness_range=[0.3,1.0],width_shift_range=[-10,10],height_shift_range=[0,20])\n",
    "\n",
    "\n",
    "train_generator = train_datagen.flow_from_directory('croped/train', target_size=(h, w),batch_size=batch_size,color_mode=\"grayscale\") \n",
    "validation_generator = test_datagen.flow_from_directory('croped/test',target_size=(h, w),batch_size=batch_size,color_mode=\"grayscale\")\n",
    "\n",
    "print(train_generator.samples)\n",
    "print(validation_generator.samples)\n",
    "print(train_generator.class_indices)"
   ]
  },
  {
   "cell_type": "code",
   "execution_count": 4,
   "id": "physical-watts",
   "metadata": {},
   "outputs": [
    {
     "name": "stderr",
     "output_type": "stream",
     "text": [
      "/home/uchiha/.local/lib/python3.8/site-packages/tensorflow/python/keras/engine/training.py:1844: UserWarning: `Model.fit_generator` is deprecated and will be removed in a future version. Please use `Model.fit`, which supports generators.\n",
      "  warnings.warn('`Model.fit_generator` is deprecated and '\n"
     ]
    },
    {
     "name": "stdout",
     "output_type": "stream",
     "text": [
      "Epoch 1/50\n",
      "118/118 [==============================] - 43s 357ms/step - loss: 3.6607 - accuracy: 0.5045 - val_loss: 0.6799 - val_accuracy: 0.5868\n",
      "Epoch 2/50\n",
      "118/118 [==============================] - 49s 415ms/step - loss: 0.6773 - accuracy: 0.5669 - val_loss: 0.6700 - val_accuracy: 0.5500\n",
      "Epoch 3/50\n",
      "118/118 [==============================] - 39s 331ms/step - loss: 0.6561 - accuracy: 0.6259 - val_loss: 0.6616 - val_accuracy: 0.6500\n",
      "Epoch 4/50\n",
      "118/118 [==============================] - 40s 336ms/step - loss: 0.6385 - accuracy: 0.6519 - val_loss: 0.6939 - val_accuracy: 0.5395\n",
      "Epoch 5/50\n",
      "118/118 [==============================] - 40s 337ms/step - loss: 0.6163 - accuracy: 0.6553 - val_loss: 0.6780 - val_accuracy: 0.5842\n",
      "Epoch 6/50\n",
      "118/118 [==============================] - 41s 349ms/step - loss: 0.6100 - accuracy: 0.6959 - val_loss: 0.6687 - val_accuracy: 0.5684\n",
      "Epoch 7/50\n",
      "118/118 [==============================] - 40s 340ms/step - loss: 0.6028 - accuracy: 0.6535 - val_loss: 0.6545 - val_accuracy: 0.5711\n",
      "Epoch 8/50\n",
      "118/118 [==============================] - 41s 344ms/step - loss: 0.5855 - accuracy: 0.6754 - val_loss: 0.6132 - val_accuracy: 0.6737\n",
      "Epoch 9/50\n",
      "118/118 [==============================] - 41s 350ms/step - loss: 0.5553 - accuracy: 0.7233 - val_loss: 0.6631 - val_accuracy: 0.5605\n",
      "Epoch 10/50\n",
      "118/118 [==============================] - 43s 365ms/step - loss: 0.6155 - accuracy: 0.6585 - val_loss: 0.5950 - val_accuracy: 0.6658\n",
      "Epoch 11/50\n",
      "118/118 [==============================] - 40s 335ms/step - loss: 0.5787 - accuracy: 0.6871 - val_loss: 0.6379 - val_accuracy: 0.6053\n",
      "Epoch 12/50\n",
      "118/118 [==============================] - 42s 354ms/step - loss: 0.5458 - accuracy: 0.7313 - val_loss: 0.5572 - val_accuracy: 0.7105\n",
      "Epoch 13/50\n",
      "118/118 [==============================] - 43s 360ms/step - loss: 0.5608 - accuracy: 0.7485 - val_loss: 0.5714 - val_accuracy: 0.6816\n",
      "Epoch 14/50\n",
      "118/118 [==============================] - 41s 349ms/step - loss: 0.5290 - accuracy: 0.7561 - val_loss: 0.6185 - val_accuracy: 0.6053\n",
      "Epoch 15/50\n",
      "118/118 [==============================] - 40s 341ms/step - loss: 0.4980 - accuracy: 0.7614 - val_loss: 0.5854 - val_accuracy: 0.6579\n",
      "Epoch 16/50\n",
      "118/118 [==============================] - 40s 335ms/step - loss: 0.4832 - accuracy: 0.7589 - val_loss: 0.5091 - val_accuracy: 0.7579\n",
      "Epoch 17/50\n",
      "118/118 [==============================] - 38s 325ms/step - loss: 0.4540 - accuracy: 0.8015 - val_loss: 0.5160 - val_accuracy: 0.7605\n",
      "Epoch 18/50\n",
      "118/118 [==============================] - 41s 346ms/step - loss: 0.4768 - accuracy: 0.7708 - val_loss: 0.4907 - val_accuracy: 0.7526\n",
      "Epoch 19/50\n",
      "118/118 [==============================] - 40s 336ms/step - loss: 0.4500 - accuracy: 0.8032 - val_loss: 0.5496 - val_accuracy: 0.6947\n",
      "Epoch 20/50\n",
      "118/118 [==============================] - 44s 371ms/step - loss: 0.4792 - accuracy: 0.7742 - val_loss: 0.5053 - val_accuracy: 0.7632\n",
      "Epoch 21/50\n",
      "118/118 [==============================] - 40s 336ms/step - loss: 0.4087 - accuracy: 0.8069 - val_loss: 0.5004 - val_accuracy: 0.7421\n",
      "Epoch 22/50\n",
      "118/118 [==============================] - 43s 362ms/step - loss: 0.4220 - accuracy: 0.8016 - val_loss: 0.4799 - val_accuracy: 0.8132\n",
      "Epoch 23/50\n",
      "118/118 [==============================] - 40s 337ms/step - loss: 0.4157 - accuracy: 0.8234 - val_loss: 0.4739 - val_accuracy: 0.8026\n",
      "Epoch 24/50\n",
      "118/118 [==============================] - 37s 317ms/step - loss: 0.4322 - accuracy: 0.8082 - val_loss: 0.4106 - val_accuracy: 0.8237\n",
      "Epoch 25/50\n",
      "118/118 [==============================] - 38s 324ms/step - loss: 0.4132 - accuracy: 0.8084 - val_loss: 0.4999 - val_accuracy: 0.7816\n",
      "Epoch 26/50\n",
      "118/118 [==============================] - 37s 316ms/step - loss: 0.3903 - accuracy: 0.8334 - val_loss: 0.4420 - val_accuracy: 0.8132\n",
      "Epoch 27/50\n",
      "118/118 [==============================] - 39s 327ms/step - loss: 0.3717 - accuracy: 0.8313 - val_loss: 0.4474 - val_accuracy: 0.7737\n",
      "Epoch 28/50\n",
      "118/118 [==============================] - 38s 320ms/step - loss: 0.4325 - accuracy: 0.8084 - val_loss: 0.4898 - val_accuracy: 0.7500\n",
      "Epoch 29/50\n",
      "118/118 [==============================] - 37s 313ms/step - loss: 0.4033 - accuracy: 0.8039 - val_loss: 0.4398 - val_accuracy: 0.7974\n",
      "Epoch 30/50\n",
      "118/118 [==============================] - 37s 313ms/step - loss: 0.3821 - accuracy: 0.8252 - val_loss: 0.5034 - val_accuracy: 0.7842\n",
      "Epoch 31/50\n",
      "118/118 [==============================] - 38s 320ms/step - loss: 0.3897 - accuracy: 0.8355 - val_loss: 0.4858 - val_accuracy: 0.8053\n",
      "Epoch 32/50\n",
      "118/118 [==============================] - 38s 323ms/step - loss: 0.3588 - accuracy: 0.8475 - val_loss: 0.4342 - val_accuracy: 0.7737\n",
      "Epoch 33/50\n",
      "118/118 [==============================] - 38s 324ms/step - loss: 0.3584 - accuracy: 0.8468 - val_loss: 0.4423 - val_accuracy: 0.7921\n",
      "Epoch 34/50\n",
      "118/118 [==============================] - 41s 350ms/step - loss: 0.3855 - accuracy: 0.8233 - val_loss: 0.4762 - val_accuracy: 0.7763\n",
      "Epoch 35/50\n",
      "118/118 [==============================] - 39s 334ms/step - loss: 0.3391 - accuracy: 0.8621 - val_loss: 0.3921 - val_accuracy: 0.8395\n",
      "Epoch 36/50\n",
      "118/118 [==============================] - 40s 343ms/step - loss: 0.3683 - accuracy: 0.8398 - val_loss: 0.4062 - val_accuracy: 0.8000\n",
      "Epoch 37/50\n",
      "118/118 [==============================] - 40s 337ms/step - loss: 0.3352 - accuracy: 0.8471 - val_loss: 0.3853 - val_accuracy: 0.8132\n",
      "Epoch 38/50\n",
      "118/118 [==============================] - 38s 322ms/step - loss: 0.3103 - accuracy: 0.8800 - val_loss: 0.3859 - val_accuracy: 0.8184\n",
      "Epoch 39/50\n",
      "118/118 [==============================] - 40s 335ms/step - loss: 0.3047 - accuracy: 0.8712 - val_loss: 0.4077 - val_accuracy: 0.8158\n",
      "Epoch 40/50\n",
      "118/118 [==============================] - 41s 348ms/step - loss: 0.3333 - accuracy: 0.8673 - val_loss: 0.4022 - val_accuracy: 0.8237\n",
      "Epoch 41/50\n",
      "118/118 [==============================] - 39s 330ms/step - loss: 0.2973 - accuracy: 0.8768 - val_loss: 0.4409 - val_accuracy: 0.8105\n",
      "Epoch 42/50\n",
      "118/118 [==============================] - 39s 329ms/step - loss: 0.2994 - accuracy: 0.8886 - val_loss: 0.3637 - val_accuracy: 0.8368\n",
      "Epoch 43/50\n",
      "118/118 [==============================] - 38s 323ms/step - loss: 0.3327 - accuracy: 0.8617 - val_loss: 0.4167 - val_accuracy: 0.8368\n",
      "Epoch 44/50\n",
      "118/118 [==============================] - 39s 331ms/step - loss: 0.2690 - accuracy: 0.8921 - val_loss: 0.4104 - val_accuracy: 0.7974\n",
      "Epoch 45/50\n",
      "118/118 [==============================] - 38s 321ms/step - loss: 0.2998 - accuracy: 0.8655 - val_loss: 0.3826 - val_accuracy: 0.8500\n",
      "Epoch 46/50\n",
      "118/118 [==============================] - 38s 322ms/step - loss: 0.2915 - accuracy: 0.8857 - val_loss: 0.3872 - val_accuracy: 0.8579\n",
      "Epoch 47/50\n",
      "118/118 [==============================] - 38s 323ms/step - loss: 0.2722 - accuracy: 0.9033 - val_loss: 0.3848 - val_accuracy: 0.8211\n",
      "Epoch 48/50\n",
      "118/118 [==============================] - 39s 326ms/step - loss: 0.3095 - accuracy: 0.8663 - val_loss: 0.4910 - val_accuracy: 0.8026\n",
      "Epoch 49/50\n",
      "118/118 [==============================] - 38s 319ms/step - loss: 0.3023 - accuracy: 0.8650 - val_loss: 0.4269 - val_accuracy: 0.8079\n",
      "Epoch 50/50\n",
      "118/118 [==============================] - 38s 322ms/step - loss: 0.2912 - accuracy: 0.8886 - val_loss: 0.4547 - val_accuracy: 0.8658\n"
     ]
    }
   ],
   "source": [
    "history = model.fit_generator(\n",
    "        train_generator,\n",
    "        steps_per_epoch=train_generator.samples // batch_size,\n",
    "        epochs=50,\n",
    "        validation_data=validation_generator,\n",
    "        validation_steps=validation_generator.samples // batch_size)\n",
    "\n",
    "\n",
    "model.save('models/version8.h5')  # always save your weights after training or during trainin\n"
   ]
  },
  {
   "cell_type": "code",
   "execution_count": 9,
   "id": "statistical-island",
   "metadata": {},
   "outputs": [
    {
     "name": "stdout",
     "output_type": "stream",
     "text": [
      "dict_keys(['loss', 'accuracy', 'val_loss', 'val_accuracy'])\n"
     ]
    },
    {
     "data": {
      "image/png": "[encoded data removed]",
      "text/plain": [
       "<Figure size 432x288 with 1 Axes>"
      ]
     },
     "metadata": {
      "needs_background": "light"
     },
     "output_type": "display_data"
    }
   ],
   "source": [
    "print(history.history.keys())\n",
    "# summarize history for accuracy\n",
    "plt.plot(history.history['accuracy'])\n",
    "plt.plot(history.history['val_accuracy'])\n",
    "plt.title('model accuracy')\n",
    "plt.ylabel('accuracy')\n",
    "plt.xlabel('epoch')\n",
    "plt.legend(['train', 'test'], loc='upper left')\n",
    "plt.show()"
   ]
  },
  {
   "cell_type": "code",
   "execution_count": 10,
   "id": "acting-netherlands",
   "metadata": {},
   "outputs": [
    {
     "data": {
      "image/png": "[encoded data removed]",
      "text/plain": [
       "<Figure size 432x288 with 1 Axes>"
      ]
     },
     "metadata": {
      "needs_background": "light"
     },
     "output_type": "display_data"
    }
   ],
   "source": [
    "# summarize history for loss\n",
    "plt.plot(history.history['loss'])\n",
    "plt.plot(history.history['val_loss'])\n",
    "plt.title('model loss')\n",
    "plt.ylabel('loss')\n",
    "plt.xlabel('epoch')\n",
    "plt.legend(['train', 'test'], loc='upper left')\n",
    "plt.show()"
   ]
  },
  {
   "cell_type": "code",
   "execution_count": null,
   "id": "otherwise-marine",
   "metadata": {},
   "outputs": [],
   "source": []
  }
 ],
 "metadata": {
  "kernelspec": {
   "display_name": "Python 3",
   "language": "python",
   "name": "python3"
  },
  "language_info": {
   "codemirror_mode": {
    "name": "ipython",
    "version": 3
   },
   "file_extension": ".py",
   "mimetype": "text/x-python",
   "name": "python",
   "nbconvert_exporter": "python",
   "pygments_lexer": "ipython3",
   "version": "3.8.5"
  }
 },
 "nbformat": 4,
 "nbformat_minor": 5
}
