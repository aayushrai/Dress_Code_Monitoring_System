{
 "cells": [
  {
   "cell_type": "code",
   "execution_count": 4,
   "id": "heard-assistant",
   "metadata": {},
   "outputs": [],
   "source": [
    "from keras.preprocessing.image import ImageDataGenerator\n",
    "from keras.models import Sequential\n",
    "from keras.layers import Conv2D, MaxPooling2D\n",
    "from keras.layers import Activation, Dropout, Flatten, Dense\n",
    "from keras.optimizers import Adam\n",
    "import keras,os\n",
    "import numpy as np\n",
    "import matplotlib.pyplot as plt"
   ]
  },
  {
   "cell_type": "code",
   "execution_count": 5,
   "id": "minimal-swift",
   "metadata": {},
   "outputs": [],
   "source": [
    "h = 300\n",
    "w = 150\n",
    "    \n",
    "model = Sequential()\n",
    "model.add(Conv2D(32, (3, 3), input_shape=( h, w,1)))\n",
    "model.add(Activation('relu'))\n",
    "model.add(MaxPooling2D(pool_size=(2, 2)))\n",
    "\n",
    "model.add(Conv2D(32, (3, 3)))\n",
    "model.add(Activation('relu'))\n",
    "model.add(MaxPooling2D(pool_size=(2, 2)))\n",
    "model.add(Dropout(0.2))\n",
    "\n",
    "model.add(Conv2D(64, (3, 3)))\n",
    "model.add(Activation('relu'))\n",
    "model.add(MaxPooling2D(pool_size=(2, 2)))\n",
    "model.add(Dropout(0.2))\n",
    "\n",
    "# model.add(Conv2D(64, (3, 3)))\n",
    "# model.add(Activation('relu'))\n",
    "# model.add(MaxPooling2D(pool_size=(2, 2)))\n",
    "# model.add(Dropout(0.2))\n",
    "\n",
    "model.add(Flatten())  # this converts our 3D feature maps to 1D feature vectors\n",
    "model.add(Dense(64))\n",
    "model.add(Activation('relu'))\n",
    "model.add(Dropout(0.3))\n",
    "model.add(Dense(2,activation='softmax'))\n",
    "\n",
    "# model.compile(loss='binary_crossentropy',optimizer='rmsprop',metrics=['accuracy'])\n",
    "\n",
    "\n",
    "# opt = Adam(lr=0.005)\n",
    "model.compile(optimizer=\"adam\", loss=keras.losses.categorical_crossentropy, metrics=['accuracy'])\n"
   ]
  },
  {
   "cell_type": "code",
   "execution_count": 6,
   "id": "talented-technical",
   "metadata": {},
   "outputs": [
    {
     "name": "stdout",
     "output_type": "stream",
     "text": [
      "Found 1182 images belonging to 2 classes.\n",
      "Found 389 images belonging to 2 classes.\n",
      "1182\n",
      "389\n",
      "{'formal': 0, 'informal': 1}\n"
     ]
    }
   ],
   "source": [
    "batch_size = 10\n",
    "\n",
    "train_datagen = ImageDataGenerator(horizontal_flip=True,brightness_range=[0.3,1.0],width_shift_range=[-10,10],height_shift_range=[0,20])\n",
    "test_datagen = ImageDataGenerator(horizontal_flip=True,brightness_range=[0.3,1.0],width_shift_range=[-10,10],height_shift_range=[0,20])\n",
    "\n",
    "\n",
    "train_generator = train_datagen.flow_from_directory('croped/train', target_size=(h, w),batch_size=batch_size,color_mode=\"grayscale\") \n",
    "validation_generator = test_datagen.flow_from_directory('croped/test',target_size=(h, w),batch_size=batch_size,color_mode=\"grayscale\")\n",
    "\n",
    "print(train_generator.samples)\n",
    "print(validation_generator.samples)\n",
    "print(train_generator.class_indices)"
   ]
  },
  {
   "cell_type": "code",
   "execution_count": 7,
   "id": "physical-watts",
   "metadata": {},
   "outputs": [
    {
     "name": "stderr",
     "output_type": "stream",
     "text": [
      "/home/uchiha/ObjectDetectionEnv/lib/python3.8/site-packages/tensorflow/python/keras/engine/training.py:1844: UserWarning: `Model.fit_generator` is deprecated and will be removed in a future version. Please use `Model.fit`, which supports generators.\n",
      "  warnings.warn('`Model.fit_generator` is deprecated and '\n"
     ]
    },
    {
     "name": "stdout",
     "output_type": "stream",
     "text": [
      "Epoch 1/50\n",
      "118/118 [==============================] - 38s 318ms/step - loss: 24.5356 - accuracy: 0.5209 - val_loss: 0.6804 - val_accuracy: 0.5658\n",
      "Epoch 2/50\n",
      "118/118 [==============================] - 37s 312ms/step - loss: 0.6625 - accuracy: 0.5954 - val_loss: 0.6409 - val_accuracy: 0.6053\n",
      "Epoch 3/50\n",
      "118/118 [==============================] - 37s 313ms/step - loss: 0.6444 - accuracy: 0.6351 - val_loss: 0.6515 - val_accuracy: 0.5763\n",
      "Epoch 4/50\n",
      "118/118 [==============================] - 37s 308ms/step - loss: 0.6331 - accuracy: 0.6537 - val_loss: 0.6475 - val_accuracy: 0.5974\n",
      "Epoch 5/50\n",
      "118/118 [==============================] - 38s 322ms/step - loss: 0.5951 - accuracy: 0.6839 - val_loss: 0.6420 - val_accuracy: 0.5974\n",
      "Epoch 6/50\n",
      "118/118 [==============================] - 38s 317ms/step - loss: 0.5989 - accuracy: 0.6589 - val_loss: 0.6594 - val_accuracy: 0.5579\n",
      "Epoch 7/50\n",
      "118/118 [==============================] - 37s 311ms/step - loss: 0.5701 - accuracy: 0.7182 - val_loss: 0.6431 - val_accuracy: 0.6211\n",
      "Epoch 8/50\n",
      "118/118 [==============================] - 37s 311ms/step - loss: 0.6701 - accuracy: 0.6611 - val_loss: 0.6573 - val_accuracy: 0.5553\n",
      "Epoch 9/50\n",
      "118/118 [==============================] - 38s 319ms/step - loss: 0.5948 - accuracy: 0.6839 - val_loss: 0.6223 - val_accuracy: 0.6289\n",
      "Epoch 10/50\n",
      "118/118 [==============================] - 38s 321ms/step - loss: 0.5339 - accuracy: 0.7425 - val_loss: 0.6209 - val_accuracy: 0.6184\n",
      "Epoch 11/50\n",
      "118/118 [==============================] - 38s 325ms/step - loss: 0.5505 - accuracy: 0.7174 - val_loss: 0.6043 - val_accuracy: 0.6526\n",
      "Epoch 12/50\n",
      "118/118 [==============================] - 38s 323ms/step - loss: 0.5155 - accuracy: 0.7411 - val_loss: 0.6509 - val_accuracy: 0.6263\n",
      "Epoch 13/50\n",
      "118/118 [==============================] - 38s 323ms/step - loss: 0.5457 - accuracy: 0.7349 - val_loss: 0.5578 - val_accuracy: 0.6763\n",
      "Epoch 14/50\n",
      "118/118 [==============================] - 38s 325ms/step - loss: 0.4856 - accuracy: 0.7698 - val_loss: 0.5861 - val_accuracy: 0.6605\n",
      "Epoch 15/50\n",
      "118/118 [==============================] - 39s 329ms/step - loss: 0.5140 - accuracy: 0.7516 - val_loss: 0.6157 - val_accuracy: 0.6026\n",
      "Epoch 16/50\n",
      "118/118 [==============================] - 39s 329ms/step - loss: 0.5245 - accuracy: 0.7292 - val_loss: 0.6078 - val_accuracy: 0.6579\n",
      "Epoch 17/50\n",
      "118/118 [==============================] - 39s 331ms/step - loss: 0.4844 - accuracy: 0.7598 - val_loss: 0.5560 - val_accuracy: 0.6763\n",
      "Epoch 18/50\n",
      "118/118 [==============================] - 38s 326ms/step - loss: 0.4516 - accuracy: 0.7895 - val_loss: 0.5671 - val_accuracy: 0.7026\n",
      "Epoch 19/50\n",
      "118/118 [==============================] - 39s 332ms/step - loss: 0.4909 - accuracy: 0.7452 - val_loss: 0.5731 - val_accuracy: 0.6921\n",
      "Epoch 20/50\n",
      "118/118 [==============================] - 39s 327ms/step - loss: 0.4772 - accuracy: 0.7622 - val_loss: 0.5615 - val_accuracy: 0.6842\n",
      "Epoch 21/50\n",
      "118/118 [==============================] - 39s 329ms/step - loss: 0.4487 - accuracy: 0.7911 - val_loss: 0.5405 - val_accuracy: 0.7079\n",
      "Epoch 22/50\n",
      "118/118 [==============================] - 39s 329ms/step - loss: 0.4477 - accuracy: 0.7780 - val_loss: 0.5897 - val_accuracy: 0.6974\n",
      "Epoch 23/50\n",
      "118/118 [==============================] - 39s 330ms/step - loss: 0.5654 - accuracy: 0.7372 - val_loss: 0.5155 - val_accuracy: 0.6947\n",
      "Epoch 24/50\n",
      "118/118 [==============================] - 39s 332ms/step - loss: 0.3923 - accuracy: 0.8400 - val_loss: 0.5333 - val_accuracy: 0.7184\n",
      "Epoch 25/50\n",
      "118/118 [==============================] - 39s 332ms/step - loss: 0.4375 - accuracy: 0.7919 - val_loss: 0.5400 - val_accuracy: 0.7368\n",
      "Epoch 26/50\n",
      "118/118 [==============================] - 39s 331ms/step - loss: 0.3842 - accuracy: 0.8391 - val_loss: 0.4862 - val_accuracy: 0.7526\n",
      "Epoch 27/50\n",
      "118/118 [==============================] - 39s 333ms/step - loss: 0.4060 - accuracy: 0.8228 - val_loss: 0.5445 - val_accuracy: 0.7237\n",
      "Epoch 28/50\n",
      "118/118 [==============================] - 39s 328ms/step - loss: 0.3636 - accuracy: 0.8449 - val_loss: 0.4910 - val_accuracy: 0.7447\n",
      "Epoch 29/50\n",
      "118/118 [==============================] - 39s 332ms/step - loss: 0.4065 - accuracy: 0.8165 - val_loss: 0.4190 - val_accuracy: 0.7895\n",
      "Epoch 30/50\n",
      "118/118 [==============================] - 39s 332ms/step - loss: 0.3716 - accuracy: 0.8338 - val_loss: 0.5004 - val_accuracy: 0.7632\n",
      "Epoch 31/50\n",
      "118/118 [==============================] - 39s 332ms/step - loss: 0.3359 - accuracy: 0.8366 - val_loss: 0.4593 - val_accuracy: 0.7816\n",
      "Epoch 32/50\n",
      "118/118 [==============================] - 39s 327ms/step - loss: 0.3842 - accuracy: 0.8377 - val_loss: 0.4807 - val_accuracy: 0.7500\n",
      "Epoch 33/50\n",
      "118/118 [==============================] - 40s 334ms/step - loss: 0.3394 - accuracy: 0.8586 - val_loss: 0.4378 - val_accuracy: 0.7842\n",
      "Epoch 34/50\n",
      "118/118 [==============================] - 39s 334ms/step - loss: 0.3245 - accuracy: 0.8607 - val_loss: 0.4942 - val_accuracy: 0.7921\n",
      "Epoch 35/50\n",
      "118/118 [==============================] - 39s 332ms/step - loss: 0.3055 - accuracy: 0.8761 - val_loss: 0.4607 - val_accuracy: 0.7526\n",
      "Epoch 36/50\n",
      "118/118 [==============================] - 39s 331ms/step - loss: 0.3168 - accuracy: 0.8635 - val_loss: 0.4294 - val_accuracy: 0.8158\n",
      "Epoch 37/50\n",
      "118/118 [==============================] - 39s 328ms/step - loss: 0.3321 - accuracy: 0.8549 - val_loss: 0.5460 - val_accuracy: 0.7842\n",
      "Epoch 38/50\n",
      "118/118 [==============================] - 39s 330ms/step - loss: 0.2893 - accuracy: 0.8804 - val_loss: 0.3896 - val_accuracy: 0.8237\n",
      "Epoch 39/50\n",
      "118/118 [==============================] - 39s 332ms/step - loss: 0.2688 - accuracy: 0.8803 - val_loss: 0.4910 - val_accuracy: 0.7842\n",
      "Epoch 40/50\n",
      "118/118 [==============================] - 39s 331ms/step - loss: 0.2803 - accuracy: 0.8768 - val_loss: 0.4744 - val_accuracy: 0.7895\n",
      "Epoch 41/50\n",
      "118/118 [==============================] - 39s 328ms/step - loss: 0.2845 - accuracy: 0.8779 - val_loss: 0.4864 - val_accuracy: 0.7974\n",
      "Epoch 42/50\n",
      "118/118 [==============================] - 39s 328ms/step - loss: 0.3046 - accuracy: 0.8841 - val_loss: 0.4340 - val_accuracy: 0.7921\n",
      "Epoch 43/50\n",
      "118/118 [==============================] - 39s 329ms/step - loss: 0.3131 - accuracy: 0.8743 - val_loss: 0.4979 - val_accuracy: 0.8158\n",
      "Epoch 44/50\n",
      "118/118 [==============================] - 40s 337ms/step - loss: 0.2876 - accuracy: 0.8788 - val_loss: 0.4328 - val_accuracy: 0.8026\n",
      "Epoch 45/50\n",
      "118/118 [==============================] - 39s 331ms/step - loss: 0.2469 - accuracy: 0.8969 - val_loss: 0.3948 - val_accuracy: 0.8184\n",
      "Epoch 46/50\n",
      "118/118 [==============================] - 39s 331ms/step - loss: 0.2430 - accuracy: 0.8966 - val_loss: 0.4229 - val_accuracy: 0.8000\n",
      "Epoch 47/50\n",
      "118/118 [==============================] - 39s 328ms/step - loss: 0.2525 - accuracy: 0.8957 - val_loss: 0.4924 - val_accuracy: 0.7947\n",
      "Epoch 48/50\n",
      "118/118 [==============================] - 39s 333ms/step - loss: 0.2844 - accuracy: 0.8759 - val_loss: 0.4223 - val_accuracy: 0.8211\n",
      "Epoch 49/50\n",
      "118/118 [==============================] - 39s 329ms/step - loss: 0.2606 - accuracy: 0.8792 - val_loss: 0.4319 - val_accuracy: 0.8079\n",
      "Epoch 50/50\n",
      "118/118 [==============================] - 39s 332ms/step - loss: 0.2678 - accuracy: 0.8969 - val_loss: 0.5397 - val_accuracy: 0.8211\n"
     ]
    }
   ],
   "source": [
    "history = model.fit_generator(\n",
    "        train_generator,\n",
    "        steps_per_epoch=train_generator.samples // batch_size,\n",
    "        epochs=50,\n",
    "        validation_data=validation_generator,\n",
    "        validation_steps=validation_generator.samples // batch_size)\n",
    "\n",
    "\n",
    "model.save('models/version7.h5')  # always save your weights after training or during trainin\n"
   ]
  },
  {
   "cell_type": "code",
   "execution_count": 10,
   "id": "statistical-island",
   "metadata": {},
   "outputs": [
    {
     "name": "stdout",
     "output_type": "stream",
     "text": [
      "dict_keys(['loss', 'accuracy', 'val_loss', 'val_accuracy'])\n"
     ]
    },
    {
     "data": {
      "image/png": "[encoded data removed]",
      "text/plain": [
       "<Figure size 432x288 with 1 Axes>"
      ]
     },
     "metadata": {
      "needs_background": "light"
     },
     "output_type": "display_data"
    }
   ],
   "source": [
    "print(history.history.keys())\n",
    "# summarize history for accuracy\n",
    "plt.plot(history.history['accuracy'])\n",
    "plt.plot(history.history['val_accuracy'])\n",
    "plt.title('model accuracy')\n",
    "plt.ylabel('accuracy')\n",
    "plt.xlabel('epoch')\n",
    "plt.legend(['train', 'test'], loc='upper left')\n",
    "plt.show()"
   ]
  },
  {
   "cell_type": "code",
   "execution_count": 11,
   "id": "acting-netherlands",
   "metadata": {},
   "outputs": [
    {
     "data": {
      "image/png": "[encoded data removed]",
      "text/plain": [
       "<Figure size 432x288 with 1 Axes>"
      ]
     },
     "metadata": {
      "needs_background": "light"
     },
     "output_type": "display_data"
    }
   ],
   "source": [
    "# summarize history for loss\n",
    "plt.plot(history.history['loss'])\n",
    "plt.plot(history.history['val_loss'])\n",
    "plt.title('model loss')\n",
    "plt.ylabel('loss')\n",
    "plt.xlabel('epoch')\n",
    "plt.legend(['train', 'test'], loc='upper left')\n",
    "plt.show()"
   ]
  },
  {
   "cell_type": "code",
   "execution_count": null,
   "id": "otherwise-marine",
   "metadata": {},
   "outputs": [],
   "source": []
  }
 ],
 "metadata": {
  "kernelspec": {
   "display_name": "Python 3",
   "language": "python",
   "name": "python3"
  },
  "language_info": {
   "codemirror_mode": {
    "name": "ipython",
    "version": 3
   },
   "file_extension": ".py",
   "mimetype": "text/x-python",
   "name": "python",
   "nbconvert_exporter": "python",
   "pygments_lexer": "ipython3",
   "version": "3.8.5"
  }
 },
 "nbformat": 4,
 "nbformat_minor": 5
}
