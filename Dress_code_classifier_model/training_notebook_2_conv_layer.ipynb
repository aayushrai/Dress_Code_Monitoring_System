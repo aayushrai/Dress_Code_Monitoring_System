{
 "cells": [
  {
   "cell_type": "code",
   "execution_count": 1,
   "id": "heard-assistant",
   "metadata": {},
   "outputs": [],
   "source": [
    "from keras.preprocessing.image import ImageDataGenerator\n",
    "from keras.models import Sequential\n",
    "from keras.layers import Conv2D, MaxPooling2D\n",
    "from keras.layers import Activation, Dropout, Flatten, Dense\n",
    "from keras.optimizers import Adam\n",
    "import keras,os\n",
    "import numpy as np\n",
    "import matplotlib.pyplot as plt"
   ]
  },
  {
   "cell_type": "code",
   "execution_count": 2,
   "id": "minimal-swift",
   "metadata": {},
   "outputs": [],
   "source": [
    "h = 300\n",
    "w = 150\n",
    "    \n",
    "model = Sequential()\n",
    "model.add(Conv2D(32, (3, 3), input_shape=( h, w,1)))\n",
    "model.add(Activation('relu'))\n",
    "model.add(MaxPooling2D(pool_size=(2, 2)))\n",
    "model.add(Dropout(0.2))\n",
    "\n",
    "model.add(Conv2D(32, (3, 3)))\n",
    "model.add(Activation('relu'))\n",
    "model.add(MaxPooling2D(pool_size=(2, 2)))\n",
    "model.add(Dropout(0.2))\n",
    "\n",
    "# model.add(Conv2D(64, (3, 3)))\n",
    "# model.add(Activation('relu'))\n",
    "# model.add(MaxPooling2D(pool_size=(2, 2)))\n",
    "# model.add(Dropout(0.2))\n",
    "\n",
    "# model.add(Conv2D(64, (3, 3)))\n",
    "# model.add(Activation('relu'))\n",
    "# model.add(MaxPooling2D(pool_size=(2, 2)))\n",
    "# model.add(Dropout(0.2))\n",
    "\n",
    "model.add(Flatten())  # this converts our 3D feature maps to 1D feature vectors\n",
    "model.add(Dense(64))\n",
    "model.add(Activation('relu'))\n",
    "model.add(Dropout(0.3))\n",
    "model.add(Dense(2,activation='softmax'))\n",
    "\n",
    "# model.compile(loss='binary_crossentropy',optimizer='rmsprop',metrics=['accuracy'])\n",
    "\n",
    "\n",
    "# opt = Adam(lr=0.005)\n",
    "model.compile(optimizer=\"adam\", loss=keras.losses.categorical_crossentropy, metrics=['accuracy'])\n"
   ]
  },
  {
   "cell_type": "code",
   "execution_count": 3,
   "id": "talented-technical",
   "metadata": {},
   "outputs": [
    {
     "name": "stdout",
     "output_type": "stream",
     "text": [
      "Found 1182 images belonging to 2 classes.\n",
      "Found 389 images belonging to 2 classes.\n",
      "1182\n",
      "389\n",
      "{'formal': 0, 'informal': 1}\n"
     ]
    }
   ],
   "source": [
    "batch_size = 10\n",
    "\n",
    "train_datagen = ImageDataGenerator(horizontal_flip=True,brightness_range=[0.3,1.0],width_shift_range=[-10,10],height_shift_range=[0,20])\n",
    "test_datagen = ImageDataGenerator(horizontal_flip=True,brightness_range=[0.3,1.0],width_shift_range=[-10,10],height_shift_range=[0,20])\n",
    "\n",
    "\n",
    "train_generator = train_datagen.flow_from_directory('croped/train', target_size=(h, w),batch_size=batch_size,color_mode=\"grayscale\") \n",
    "validation_generator = test_datagen.flow_from_directory('croped/test',target_size=(h, w),batch_size=batch_size,color_mode=\"grayscale\")\n",
    "\n",
    "print(train_generator.samples)\n",
    "print(validation_generator.samples)\n",
    "print(train_generator.class_indices)"
   ]
  },
  {
   "cell_type": "code",
   "execution_count": 4,
   "id": "physical-watts",
   "metadata": {},
   "outputs": [
    {
     "name": "stderr",
     "output_type": "stream",
     "text": [
      "/home/uchiha/ObjectDetectionEnv/lib/python3.8/site-packages/tensorflow/python/keras/engine/training.py:1844: UserWarning: `Model.fit_generator` is deprecated and will be removed in a future version. Please use `Model.fit`, which supports generators.\n",
      "  warnings.warn('`Model.fit_generator` is deprecated and '\n"
     ]
    },
    {
     "name": "stdout",
     "output_type": "stream",
     "text": [
      "Epoch 1/50\n",
      "118/118 [==============================] - 78s 658ms/step - loss: 44.3266 - accuracy: 0.5601 - val_loss: 0.6688 - val_accuracy: 0.5579\n",
      "Epoch 2/50\n",
      "118/118 [==============================] - 40s 335ms/step - loss: 0.6521 - accuracy: 0.6376 - val_loss: 0.6934 - val_accuracy: 0.5211\n",
      "Epoch 3/50\n",
      "118/118 [==============================] - 36s 307ms/step - loss: 0.6408 - accuracy: 0.6390 - val_loss: 0.6951 - val_accuracy: 0.5474\n",
      "Epoch 4/50\n",
      "118/118 [==============================] - 37s 315ms/step - loss: 0.6171 - accuracy: 0.6851 - val_loss: 0.6889 - val_accuracy: 0.5158\n",
      "Epoch 5/50\n",
      "118/118 [==============================] - 37s 312ms/step - loss: 0.6162 - accuracy: 0.6446 - val_loss: 0.6728 - val_accuracy: 0.5474\n",
      "Epoch 6/50\n",
      "118/118 [==============================] - 37s 313ms/step - loss: 0.6241 - accuracy: 0.6490 - val_loss: 0.6870 - val_accuracy: 0.5605\n",
      "Epoch 7/50\n",
      "118/118 [==============================] - 39s 326ms/step - loss: 0.6060 - accuracy: 0.6811 - val_loss: 0.6657 - val_accuracy: 0.5632\n",
      "Epoch 8/50\n",
      "118/118 [==============================] - 38s 319ms/step - loss: 0.6232 - accuracy: 0.6593 - val_loss: 0.6704 - val_accuracy: 0.5421\n",
      "Epoch 9/50\n",
      "118/118 [==============================] - 39s 333ms/step - loss: 0.5721 - accuracy: 0.6669 - val_loss: 0.7003 - val_accuracy: 0.5289\n",
      "Epoch 10/50\n",
      "118/118 [==============================] - 37s 316ms/step - loss: 0.6006 - accuracy: 0.6806 - val_loss: 0.6796 - val_accuracy: 0.5500\n",
      "Epoch 11/50\n",
      "118/118 [==============================] - 38s 320ms/step - loss: 0.6119 - accuracy: 0.6688 - val_loss: 0.6706 - val_accuracy: 0.5684\n",
      "Epoch 12/50\n",
      "118/118 [==============================] - 38s 319ms/step - loss: 0.5674 - accuracy: 0.7010 - val_loss: 0.6790 - val_accuracy: 0.5684\n",
      "Epoch 13/50\n",
      "118/118 [==============================] - 38s 318ms/step - loss: 0.5768 - accuracy: 0.6971 - val_loss: 0.6715 - val_accuracy: 0.6000\n",
      "Epoch 14/50\n",
      "118/118 [==============================] - 38s 325ms/step - loss: 0.5453 - accuracy: 0.7231 - val_loss: 0.7081 - val_accuracy: 0.5947\n",
      "Epoch 15/50\n",
      "118/118 [==============================] - 38s 324ms/step - loss: 0.5365 - accuracy: 0.7405 - val_loss: 0.6923 - val_accuracy: 0.5895\n",
      "Epoch 16/50\n",
      "118/118 [==============================] - 38s 321ms/step - loss: 0.5201 - accuracy: 0.7372 - val_loss: 0.6490 - val_accuracy: 0.6053\n",
      "Epoch 17/50\n",
      "118/118 [==============================] - 38s 324ms/step - loss: 0.5288 - accuracy: 0.7486 - val_loss: 0.6676 - val_accuracy: 0.5974\n",
      "Epoch 18/50\n",
      "118/118 [==============================] - 38s 325ms/step - loss: 0.5142 - accuracy: 0.7406 - val_loss: 0.6601 - val_accuracy: 0.5974\n",
      "Epoch 19/50\n",
      "118/118 [==============================] - 37s 317ms/step - loss: 0.5092 - accuracy: 0.7574 - val_loss: 0.6481 - val_accuracy: 0.5921\n",
      "Epoch 20/50\n",
      "118/118 [==============================] - 38s 318ms/step - loss: 0.5157 - accuracy: 0.7705 - val_loss: 0.6391 - val_accuracy: 0.6368\n",
      "Epoch 21/50\n",
      "118/118 [==============================] - 37s 317ms/step - loss: 0.5220 - accuracy: 0.7347 - val_loss: 0.6450 - val_accuracy: 0.6263\n",
      "Epoch 22/50\n",
      "118/118 [==============================] - 38s 320ms/step - loss: 0.5159 - accuracy: 0.7514 - val_loss: 0.6607 - val_accuracy: 0.5921\n",
      "Epoch 23/50\n",
      "118/118 [==============================] - 40s 343ms/step - loss: 0.4918 - accuracy: 0.7778 - val_loss: 0.6615 - val_accuracy: 0.6474\n",
      "Epoch 24/50\n",
      "118/118 [==============================] - 38s 322ms/step - loss: 0.4844 - accuracy: 0.7723 - val_loss: 0.6934 - val_accuracy: 0.5974\n",
      "Epoch 25/50\n",
      "118/118 [==============================] - 38s 318ms/step - loss: 0.4748 - accuracy: 0.7644 - val_loss: 0.6652 - val_accuracy: 0.6211\n",
      "Epoch 26/50\n",
      "118/118 [==============================] - 38s 319ms/step - loss: 0.5052 - accuracy: 0.7827 - val_loss: 0.6319 - val_accuracy: 0.6447\n",
      "Epoch 27/50\n",
      "118/118 [==============================] - 38s 322ms/step - loss: 0.4536 - accuracy: 0.7676 - val_loss: 0.6396 - val_accuracy: 0.6658\n",
      "Epoch 28/50\n",
      "118/118 [==============================] - 38s 318ms/step - loss: 0.4401 - accuracy: 0.8023 - val_loss: 0.6392 - val_accuracy: 0.6763\n",
      "Epoch 29/50\n",
      "118/118 [==============================] - 38s 319ms/step - loss: 0.4386 - accuracy: 0.7984 - val_loss: 0.6216 - val_accuracy: 0.6579\n",
      "Epoch 30/50\n",
      "118/118 [==============================] - 38s 318ms/step - loss: 0.4825 - accuracy: 0.7796 - val_loss: 0.6965 - val_accuracy: 0.6737\n",
      "Epoch 31/50\n",
      "118/118 [==============================] - 38s 321ms/step - loss: 0.4286 - accuracy: 0.8310 - val_loss: 0.6546 - val_accuracy: 0.6605\n",
      "Epoch 32/50\n",
      "118/118 [==============================] - 38s 319ms/step - loss: 0.4041 - accuracy: 0.8157 - val_loss: 0.6125 - val_accuracy: 0.7026\n",
      "Epoch 33/50\n",
      "118/118 [==============================] - 38s 317ms/step - loss: 0.3820 - accuracy: 0.8293 - val_loss: 0.6578 - val_accuracy: 0.6816\n",
      "Epoch 34/50\n",
      "118/118 [==============================] - 38s 318ms/step - loss: 0.3759 - accuracy: 0.8289 - val_loss: 0.6598 - val_accuracy: 0.6763\n",
      "Epoch 35/50\n",
      "118/118 [==============================] - 38s 318ms/step - loss: 0.3741 - accuracy: 0.8367 - val_loss: 0.6837 - val_accuracy: 0.6658\n",
      "Epoch 36/50\n",
      "118/118 [==============================] - 38s 317ms/step - loss: 0.3843 - accuracy: 0.8355 - val_loss: 0.6407 - val_accuracy: 0.6921\n",
      "Epoch 37/50\n",
      "118/118 [==============================] - 38s 319ms/step - loss: 0.3534 - accuracy: 0.8482 - val_loss: 0.7461 - val_accuracy: 0.6421\n",
      "Epoch 38/50\n",
      "118/118 [==============================] - 38s 319ms/step - loss: 0.4016 - accuracy: 0.8013 - val_loss: 0.6442 - val_accuracy: 0.6842\n",
      "Epoch 39/50\n",
      "118/118 [==============================] - 37s 315ms/step - loss: 0.3622 - accuracy: 0.8428 - val_loss: 0.5804 - val_accuracy: 0.7184\n",
      "Epoch 40/50\n",
      "118/118 [==============================] - 38s 320ms/step - loss: 0.3344 - accuracy: 0.8543 - val_loss: 0.6117 - val_accuracy: 0.6816\n",
      "Epoch 41/50\n",
      "118/118 [==============================] - 38s 320ms/step - loss: 0.3414 - accuracy: 0.8543 - val_loss: 0.6359 - val_accuracy: 0.7289\n",
      "Epoch 42/50\n",
      "118/118 [==============================] - 38s 320ms/step - loss: 0.3179 - accuracy: 0.8678 - val_loss: 0.6032 - val_accuracy: 0.7211\n",
      "Epoch 43/50\n",
      "118/118 [==============================] - 37s 314ms/step - loss: 0.3392 - accuracy: 0.8618 - val_loss: 0.6566 - val_accuracy: 0.7237\n",
      "Epoch 44/50\n",
      "118/118 [==============================] - 37s 316ms/step - loss: 0.3054 - accuracy: 0.8584 - val_loss: 0.5529 - val_accuracy: 0.7579\n",
      "Epoch 45/50\n",
      "118/118 [==============================] - 37s 313ms/step - loss: 0.2888 - accuracy: 0.8832 - val_loss: 0.6800 - val_accuracy: 0.7132\n",
      "Epoch 46/50\n",
      "118/118 [==============================] - 38s 318ms/step - loss: 0.2853 - accuracy: 0.8801 - val_loss: 0.6832 - val_accuracy: 0.7211\n",
      "Epoch 47/50\n",
      "118/118 [==============================] - 38s 320ms/step - loss: 0.2991 - accuracy: 0.8714 - val_loss: 0.6476 - val_accuracy: 0.7316\n",
      "Epoch 48/50\n",
      "118/118 [==============================] - 38s 321ms/step - loss: 0.2589 - accuracy: 0.8967 - val_loss: 0.7647 - val_accuracy: 0.6974\n",
      "Epoch 49/50\n",
      "118/118 [==============================] - 38s 320ms/step - loss: 0.3334 - accuracy: 0.8644 - val_loss: 0.5548 - val_accuracy: 0.7526\n",
      "Epoch 50/50\n",
      "118/118 [==============================] - 38s 319ms/step - loss: 0.2978 - accuracy: 0.8833 - val_loss: 0.6540 - val_accuracy: 0.7158\n"
     ]
    }
   ],
   "source": [
    "history = model.fit_generator(\n",
    "        train_generator,\n",
    "        steps_per_epoch=train_generator.samples // batch_size,\n",
    "        epochs=50,\n",
    "        validation_data=validation_generator,\n",
    "        validation_steps=validation_generator.samples // batch_size)\n",
    "\n",
    "\n",
    "model.save('models/version6.h5')  # always save your weights after training or during trainin\n"
   ]
  },
  {
   "cell_type": "code",
   "execution_count": 5,
   "id": "statistical-island",
   "metadata": {},
   "outputs": [
    {
     "name": "stdout",
     "output_type": "stream",
     "text": [
      "dict_keys(['loss', 'accuracy', 'val_loss', 'val_accuracy'])\n"
     ]
    },
    {
     "data": {
      "image/png": "[encoded data removed]",
      "text/plain": [
       "<Figure size 432x288 with 1 Axes>"
      ]
     },
     "metadata": {
      "needs_background": "light"
     },
     "output_type": "display_data"
    }
   ],
   "source": [
    "print(history.history.keys())\n",
    "# summarize history for accuracy\n",
    "plt.plot(history.history['accuracy'])\n",
    "plt.plot(history.history['val_accuracy'])\n",
    "plt.title('model accuracy')\n",
    "plt.ylabel('accuracy')\n",
    "plt.xlabel('epoch')\n",
    "plt.legend(['train', 'test'], loc='upper left')\n",
    "plt.show()"
   ]
  },
  {
   "cell_type": "code",
   "execution_count": 6,
   "id": "acting-netherlands",
   "metadata": {},
   "outputs": [
    {
     "data": {
      "image/png": "[encoded data removed]",
      "text/plain": [
       "<Figure size 432x288 with 1 Axes>"
      ]
     },
     "metadata": {
      "needs_background": "light"
     },
     "output_type": "display_data"
    }
   ],
   "source": [
    "# summarize history for loss\n",
    "plt.plot(history.history['loss'])\n",
    "plt.plot(history.history['val_loss'])\n",
    "plt.title('model loss')\n",
    "plt.ylabel('loss')\n",
    "plt.xlabel('epoch')\n",
    "plt.legend(['train', 'test'], loc='upper left')\n",
    "plt.show()"
   ]
  },
  {
   "cell_type": "code",
   "execution_count": null,
   "id": "otherwise-marine",
   "metadata": {},
   "outputs": [],
   "source": []
  }
 ],
 "metadata": {
  "kernelspec": {
   "display_name": "Python 3",
   "language": "python",
   "name": "python3"
  },
  "language_info": {
   "codemirror_mode": {
    "name": "ipython",
    "version": 3
   },
   "file_extension": ".py",
   "mimetype": "text/x-python",
   "name": "python",
   "nbconvert_exporter": "python",
   "pygments_lexer": "ipython3",
   "version": "3.8.5"
  }
 },
 "nbformat": 4,
 "nbformat_minor": 5
}
