{
 "cells": [
  {
   "cell_type": "code",
   "execution_count": 1,
   "id": "heard-assistant",
   "metadata": {},
   "outputs": [],
   "source": [
    "from keras.preprocessing.image import ImageDataGenerator\n",
    "from keras.models import Sequential\n",
    "from keras.layers import Conv2D, MaxPooling2D\n",
    "from keras.layers import Activation, Dropout, Flatten, Dense\n",
    "from keras.optimizers import Adam\n",
    "import keras,os\n",
    "import numpy as np\n",
    "import matplotlib.pyplot as plt"
   ]
  },
  {
   "cell_type": "code",
   "execution_count": 2,
   "id": "minimal-swift",
   "metadata": {},
   "outputs": [],
   "source": [
    "h = 300\n",
    "w = 150\n",
    "    \n",
    "model = Sequential()\n",
    "model.add(Conv2D(32, (3, 3), input_shape=( h, w,1)))\n",
    "model.add(Activation('relu'))\n",
    "model.add(MaxPooling2D(pool_size=(2, 2)))\n",
    "\n",
    "model.add(Conv2D(32, (3, 3)))\n",
    "model.add(Activation('relu'))\n",
    "model.add(MaxPooling2D(pool_size=(2, 2)))\n",
    "model.add(Dropout(0.2))\n",
    "\n",
    "model.add(Conv2D(64, (3, 3)))\n",
    "model.add(Activation('relu'))\n",
    "model.add(MaxPooling2D(pool_size=(2, 2)))\n",
    "model.add(Dropout(0.2))\n",
    "\n",
    "# model.add(Conv2D(64, (3, 3)))\n",
    "# model.add(Activation('relu'))\n",
    "# model.add(MaxPooling2D(pool_size=(2, 2)))\n",
    "# model.add(Dropout(0.2))\n",
    "\n",
    "model.add(Flatten())  # this converts our 3D feature maps to 1D feature vectors\n",
    "model.add(Dense(64))\n",
    "model.add(Activation('relu'))\n",
    "model.add(Dropout(0.3))\n",
    "model.add(Dense(2,activation='softmax'))\n",
    "\n",
    "# model.compile(loss='binary_crossentropy',optimizer='rmsprop',metrics=['accuracy'])\n",
    "\n",
    "\n",
    "# opt = Adam(lr=0.005)\n",
    "model.compile(optimizer=\"adam\", loss=keras.losses.categorical_crossentropy, metrics=['accuracy'])\n"
   ]
  },
  {
   "cell_type": "code",
   "execution_count": 3,
   "id": "talented-technical",
   "metadata": {},
   "outputs": [
    {
     "name": "stdout",
     "output_type": "stream",
     "text": [
      "Found 1360 images belonging to 2 classes.\n",
      "Found 244 images belonging to 2 classes.\n",
      "1360\n",
      "244\n",
      "{'formal': 0, 'informal': 1}\n"
     ]
    }
   ],
   "source": [
    "batch_size = 10\n",
    "\n",
    "train_datagen = ImageDataGenerator(horizontal_flip=True,brightness_range=[0.3,1.0],width_shift_range=[-10,10],height_shift_range=[0,20])\n",
    "test_datagen = ImageDataGenerator(horizontal_flip=True,brightness_range=[0.3,1.0],width_shift_range=[-10,10],height_shift_range=[0,20])\n",
    "\n",
    "\n",
    "train_generator = train_datagen.flow_from_directory('croped/train', target_size=(h, w),batch_size=batch_size,color_mode=\"grayscale\") \n",
    "validation_generator = test_datagen.flow_from_directory('croped/test',target_size=(h, w),batch_size=batch_size,color_mode=\"grayscale\")\n",
    "\n",
    "print(train_generator.samples)\n",
    "print(validation_generator.samples)\n",
    "print(train_generator.class_indices)"
   ]
  },
  {
   "cell_type": "code",
   "execution_count": 4,
   "id": "physical-watts",
   "metadata": {},
   "outputs": [
    {
     "name": "stderr",
     "output_type": "stream",
     "text": [
      "/home/uchiha/ObjectDetectionEnv/lib/python3.8/site-packages/tensorflow/python/keras/engine/training.py:1844: UserWarning: `Model.fit_generator` is deprecated and will be removed in a future version. Please use `Model.fit`, which supports generators.\n",
      "  warnings.warn('`Model.fit_generator` is deprecated and '\n"
     ]
    },
    {
     "name": "stdout",
     "output_type": "stream",
     "text": [
      "Epoch 1/50\n",
      "136/136 [==============================] - 39s 286ms/step - loss: 9.2311 - accuracy: 0.5396 - val_loss: 0.6721 - val_accuracy: 0.5792\n",
      "Epoch 2/50\n",
      "136/136 [==============================] - 40s 293ms/step - loss: 0.6518 - accuracy: 0.6182 - val_loss: 0.6304 - val_accuracy: 0.6250\n",
      "Epoch 3/50\n",
      "136/136 [==============================] - 40s 297ms/step - loss: 0.6670 - accuracy: 0.6158 - val_loss: 0.6299 - val_accuracy: 0.6250\n",
      "Epoch 4/50\n",
      "136/136 [==============================] - 40s 295ms/step - loss: 0.6281 - accuracy: 0.6476 - val_loss: 0.6157 - val_accuracy: 0.6500\n",
      "Epoch 5/50\n",
      "136/136 [==============================] - 46s 336ms/step - loss: 0.6139 - accuracy: 0.6637 - val_loss: 0.7856 - val_accuracy: 0.5958\n",
      "Epoch 6/50\n",
      "136/136 [==============================] - 44s 326ms/step - loss: 0.6985 - accuracy: 0.6321 - val_loss: 0.6148 - val_accuracy: 0.6250\n",
      "Epoch 7/50\n",
      "136/136 [==============================] - 48s 348ms/step - loss: 0.6222 - accuracy: 0.6595 - val_loss: 0.6139 - val_accuracy: 0.6500\n",
      "Epoch 8/50\n",
      "136/136 [==============================] - 42s 311ms/step - loss: 0.5826 - accuracy: 0.6834 - val_loss: 0.5890 - val_accuracy: 0.6583\n",
      "Epoch 9/50\n",
      "136/136 [==============================] - 41s 301ms/step - loss: 0.5864 - accuracy: 0.6606 - val_loss: 0.6597 - val_accuracy: 0.6792\n",
      "Epoch 10/50\n",
      "136/136 [==============================] - 42s 310ms/step - loss: 0.6455 - accuracy: 0.6538 - val_loss: 0.6633 - val_accuracy: 0.6542\n",
      "Epoch 11/50\n",
      "136/136 [==============================] - 41s 300ms/step - loss: 0.6043 - accuracy: 0.6805 - val_loss: 0.5901 - val_accuracy: 0.6458\n",
      "Epoch 12/50\n",
      "136/136 [==============================] - 45s 333ms/step - loss: 0.5908 - accuracy: 0.6873 - val_loss: 0.5652 - val_accuracy: 0.7125\n",
      "Epoch 13/50\n",
      "136/136 [==============================] - 47s 347ms/step - loss: 0.5878 - accuracy: 0.7039 - val_loss: 0.5582 - val_accuracy: 0.6875\n",
      "Epoch 14/50\n",
      "136/136 [==============================] - 45s 332ms/step - loss: 0.5302 - accuracy: 0.7302 - val_loss: 0.5416 - val_accuracy: 0.6958\n",
      "Epoch 15/50\n",
      "136/136 [==============================] - 42s 306ms/step - loss: 0.5368 - accuracy: 0.7173 - val_loss: 0.5670 - val_accuracy: 0.7125\n",
      "Epoch 16/50\n",
      "136/136 [==============================] - 42s 307ms/step - loss: 0.5381 - accuracy: 0.7400 - val_loss: 0.5530 - val_accuracy: 0.7000\n",
      "Epoch 17/50\n",
      "136/136 [==============================] - 42s 306ms/step - loss: 0.4985 - accuracy: 0.7625 - val_loss: 0.5441 - val_accuracy: 0.7375\n",
      "Epoch 18/50\n",
      "136/136 [==============================] - 41s 304ms/step - loss: 0.4857 - accuracy: 0.7572 - val_loss: 0.5111 - val_accuracy: 0.7667\n",
      "Epoch 19/50\n",
      "136/136 [==============================] - 46s 337ms/step - loss: 0.4582 - accuracy: 0.7723 - val_loss: 0.4965 - val_accuracy: 0.7792\n",
      "Epoch 20/50\n",
      "136/136 [==============================] - 43s 319ms/step - loss: 0.4319 - accuracy: 0.7922 - val_loss: 0.4125 - val_accuracy: 0.8000\n",
      "Epoch 21/50\n",
      "136/136 [==============================] - 43s 315ms/step - loss: 0.4707 - accuracy: 0.7741 - val_loss: 0.4403 - val_accuracy: 0.7917\n",
      "Epoch 22/50\n",
      "136/136 [==============================] - 41s 304ms/step - loss: 0.4437 - accuracy: 0.7841 - val_loss: 0.3752 - val_accuracy: 0.8292\n",
      "Epoch 23/50\n",
      "136/136 [==============================] - 44s 320ms/step - loss: 0.4415 - accuracy: 0.8146 - val_loss: 0.4818 - val_accuracy: 0.7917\n",
      "Epoch 24/50\n",
      "136/136 [==============================] - 42s 309ms/step - loss: 0.4536 - accuracy: 0.8033 - val_loss: 0.4002 - val_accuracy: 0.8167\n",
      "Epoch 25/50\n",
      "136/136 [==============================] - 43s 314ms/step - loss: 0.4658 - accuracy: 0.7891 - val_loss: 0.4087 - val_accuracy: 0.8000\n",
      "Epoch 26/50\n",
      "136/136 [==============================] - 42s 308ms/step - loss: 0.4146 - accuracy: 0.8180 - val_loss: 1.5059 - val_accuracy: 0.7917\n",
      "Epoch 27/50\n",
      "136/136 [==============================] - 43s 315ms/step - loss: 0.5607 - accuracy: 0.8121 - val_loss: 0.4320 - val_accuracy: 0.8208\n",
      "Epoch 28/50\n",
      "136/136 [==============================] - 43s 316ms/step - loss: 0.4021 - accuracy: 0.8241 - val_loss: 0.4241 - val_accuracy: 0.8167\n",
      "Epoch 29/50\n",
      "136/136 [==============================] - 45s 332ms/step - loss: 0.4282 - accuracy: 0.8092 - val_loss: 0.4325 - val_accuracy: 0.7917\n",
      "Epoch 30/50\n",
      "136/136 [==============================] - 43s 312ms/step - loss: 0.3907 - accuracy: 0.8148 - val_loss: 0.4553 - val_accuracy: 0.8125\n",
      "Epoch 31/50\n",
      "136/136 [==============================] - 43s 312ms/step - loss: 0.3661 - accuracy: 0.8446 - val_loss: 0.4084 - val_accuracy: 0.8083\n",
      "Epoch 32/50\n",
      "136/136 [==============================] - 41s 302ms/step - loss: 0.3289 - accuracy: 0.8423 - val_loss: 0.3513 - val_accuracy: 0.8667\n",
      "Epoch 33/50\n",
      "136/136 [==============================] - 47s 342ms/step - loss: 0.3689 - accuracy: 0.8372 - val_loss: 0.3730 - val_accuracy: 0.8458\n",
      "Epoch 34/50\n",
      "136/136 [==============================] - 48s 352ms/step - loss: 0.3517 - accuracy: 0.8707 - val_loss: 0.3894 - val_accuracy: 0.8167\n",
      "Epoch 35/50\n",
      "136/136 [==============================] - 48s 349ms/step - loss: 0.3274 - accuracy: 0.8651 - val_loss: 0.4110 - val_accuracy: 0.8125\n",
      "Epoch 36/50\n",
      "136/136 [==============================] - 45s 328ms/step - loss: 0.3681 - accuracy: 0.8541 - val_loss: 0.4118 - val_accuracy: 0.8125\n",
      "Epoch 37/50\n",
      "136/136 [==============================] - 43s 315ms/step - loss: 0.3267 - accuracy: 0.8563 - val_loss: 0.4558 - val_accuracy: 0.8417\n",
      "Epoch 38/50\n",
      "136/136 [==============================] - 43s 316ms/step - loss: 0.3156 - accuracy: 0.8745 - val_loss: 0.3407 - val_accuracy: 0.8458\n",
      "Epoch 39/50\n",
      "136/136 [==============================] - 41s 301ms/step - loss: 0.3148 - accuracy: 0.8769 - val_loss: 0.3348 - val_accuracy: 0.8667\n",
      "Epoch 40/50\n",
      "136/136 [==============================] - 41s 301ms/step - loss: 0.3355 - accuracy: 0.8614 - val_loss: 0.2825 - val_accuracy: 0.8750\n",
      "Epoch 41/50\n",
      "136/136 [==============================] - 41s 299ms/step - loss: 0.2944 - accuracy: 0.8691 - val_loss: 0.3464 - val_accuracy: 0.8583\n",
      "Epoch 42/50\n",
      "136/136 [==============================] - 45s 327ms/step - loss: 0.3136 - accuracy: 0.8803 - val_loss: 0.3809 - val_accuracy: 0.8417\n",
      "Epoch 43/50\n",
      "136/136 [==============================] - 42s 308ms/step - loss: 0.2868 - accuracy: 0.8918 - val_loss: 0.3276 - val_accuracy: 0.8167\n",
      "Epoch 44/50\n",
      "136/136 [==============================] - 42s 307ms/step - loss: 0.2724 - accuracy: 0.8927 - val_loss: 0.5588 - val_accuracy: 0.8208\n",
      "Epoch 45/50\n",
      "136/136 [==============================] - 43s 312ms/step - loss: 0.2817 - accuracy: 0.8915 - val_loss: 0.3239 - val_accuracy: 0.8750\n",
      "Epoch 46/50\n",
      "136/136 [==============================] - 45s 331ms/step - loss: 0.2747 - accuracy: 0.8887 - val_loss: 0.3806 - val_accuracy: 0.8333\n",
      "Epoch 47/50\n",
      "136/136 [==============================] - 47s 341ms/step - loss: 0.2545 - accuracy: 0.8937 - val_loss: 0.3028 - val_accuracy: 0.8667\n",
      "Epoch 48/50\n",
      "136/136 [==============================] - 42s 305ms/step - loss: 0.2592 - accuracy: 0.9080 - val_loss: 0.2778 - val_accuracy: 0.8792\n",
      "Epoch 49/50\n",
      "136/136 [==============================] - 42s 305ms/step - loss: 0.2594 - accuracy: 0.8939 - val_loss: 0.3630 - val_accuracy: 0.8958\n",
      "Epoch 50/50\n",
      "136/136 [==============================] - 42s 305ms/step - loss: 0.2496 - accuracy: 0.8916 - val_loss: 0.3137 - val_accuracy: 0.8458\n"
     ]
    }
   ],
   "source": [
    "history = model.fit_generator(\n",
    "        train_generator,\n",
    "        steps_per_epoch=train_generator.samples // batch_size,\n",
    "        epochs=50,\n",
    "        validation_data=validation_generator,\n",
    "        validation_steps=validation_generator.samples // batch_size)\n",
    "\n",
    "\n",
    "model.save('models/version4.h5')  # always save your weights after training or during trainin\n"
   ]
  },
  {
   "cell_type": "code",
   "execution_count": 5,
   "id": "statistical-island",
   "metadata": {},
   "outputs": [
    {
     "name": "stdout",
     "output_type": "stream",
     "text": [
      "dict_keys(['loss', 'accuracy', 'val_loss', 'val_accuracy'])\n"
     ]
    },
    {
     "data": {
      "image/png": "[encoded data removed]",
      "text/plain": [
       "<Figure size 432x288 with 1 Axes>"
      ]
     },
     "metadata": {
      "needs_background": "light"
     },
     "output_type": "display_data"
    }
   ],
   "source": [
    "print(history.history.keys())\n",
    "# summarize history for accuracy\n",
    "plt.plot(history.history['accuracy'])\n",
    "plt.plot(history.history['val_accuracy'])\n",
    "plt.title('model accuracy')\n",
    "plt.ylabel('accuracy')\n",
    "plt.xlabel('epoch')\n",
    "plt.legend(['train', 'test'], loc='upper left')\n",
    "plt.show()"
   ]
  },
  {
   "cell_type": "code",
   "execution_count": 6,
   "id": "acting-netherlands",
   "metadata": {},
   "outputs": [
    {
     "data": {
      "image/png": "[encoded data removed]",
      "text/plain": [
       "<Figure size 432x288 with 1 Axes>"
      ]
     },
     "metadata": {
      "needs_background": "light"
     },
     "output_type": "display_data"
    }
   ],
   "source": [
    "# summarize history for loss\n",
    "plt.plot(history.history['loss'])\n",
    "plt.plot(history.history['val_loss'])\n",
    "plt.title('model loss')\n",
    "plt.ylabel('loss')\n",
    "plt.xlabel('epoch')\n",
    "plt.legend(['train', 'test'], loc='upper left')\n",
    "plt.show()"
   ]
  },
  {
   "cell_type": "code",
   "execution_count": null,
   "id": "otherwise-marine",
   "metadata": {},
   "outputs": [],
   "source": []
  }
 ],
 "metadata": {
  "kernelspec": {
   "display_name": "Python 3",
   "language": "python",
   "name": "python3"
  },
  "language_info": {
   "codemirror_mode": {
    "name": "ipython",
    "version": 3
   },
   "file_extension": ".py",
   "mimetype": "text/x-python",
   "name": "python",
   "nbconvert_exporter": "python",
   "pygments_lexer": "ipython3",
   "version": "3.8.5"
  }
 },
 "nbformat": 4,
 "nbformat_minor": 5
}
