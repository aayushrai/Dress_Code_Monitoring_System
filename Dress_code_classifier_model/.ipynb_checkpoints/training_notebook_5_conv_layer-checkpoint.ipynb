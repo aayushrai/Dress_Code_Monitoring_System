{
 "cells": [
  {
   "cell_type": "code",
   "execution_count": 1,
   "id": "heard-assistant",
   "metadata": {},
   "outputs": [],
   "source": [
    "from keras.preprocessing.image import ImageDataGenerator\n",
    "from keras.models import Sequential\n",
    "from keras.layers import Conv2D, MaxPooling2D\n",
    "from keras.layers import Activation, Dropout, Flatten, Dense\n",
    "from keras.optimizers import Adam\n",
    "import keras,os\n",
    "import numpy as np\n",
    "import matplotlib.pyplot as plt"
   ]
  },
  {
   "cell_type": "code",
   "execution_count": 2,
   "id": "minimal-swift",
   "metadata": {},
   "outputs": [],
   "source": [
    "h = 300\n",
    "w = 150\n",
    "    \n",
    "model = Sequential()\n",
    "model.add(Conv2D(32, (3, 3), input_shape=( h, w,1)))\n",
    "model.add(Activation('relu'))\n",
    "model.add(MaxPooling2D(pool_size=(2, 2)))\n",
    "\n",
    "model.add(Conv2D(32, (3, 3)))\n",
    "model.add(Activation('relu'))\n",
    "model.add(MaxPooling2D(pool_size=(2, 2)))\n",
    "model.add(Dropout(0.2))\n",
    "\n",
    "model.add(Conv2D(64, (3, 3)))\n",
    "model.add(Activation('relu'))\n",
    "model.add(MaxPooling2D(pool_size=(2, 2)))\n",
    "model.add(Dropout(0.2))\n",
    "\n",
    "model.add(Conv2D(64, (3, 3)))\n",
    "model.add(Activation('relu'))\n",
    "model.add(MaxPooling2D(pool_size=(2, 2)))\n",
    "model.add(Dropout(0.2))\n",
    "\n",
    "model.add(Flatten())  # this converts our 3D feature maps to 1D feature vectors\n",
    "model.add(Dense(64))\n",
    "model.add(Activation('relu'))\n",
    "model.add(Dropout(0.3))\n",
    "model.add(Dense(2,activation='softmax'))\n",
    "\n",
    "# model.compile(loss='binary_crossentropy',optimizer='rmsprop',metrics=['accuracy'])\n",
    "\n",
    "\n",
    "# opt = Adam(lr=0.005)\n",
    "model.compile(optimizer=\"adam\", loss=keras.losses.categorical_crossentropy, metrics=['accuracy'])\n"
   ]
  },
  {
   "cell_type": "code",
   "execution_count": 3,
   "id": "talented-technical",
   "metadata": {},
   "outputs": [
    {
     "name": "stdout",
     "output_type": "stream",
     "text": [
      "Found 1182 images belonging to 2 classes.\n",
      "Found 389 images belonging to 2 classes.\n",
      "1182\n",
      "389\n",
      "{'formal': 0, 'informal': 1}\n"
     ]
    }
   ],
   "source": [
    "batch_size = 10\n",
    "\n",
    "train_datagen = ImageDataGenerator(horizontal_flip=True,brightness_range=[0.3,1.0],width_shift_range=[-10,10],height_shift_range=[0,20])\n",
    "test_datagen = ImageDataGenerator(horizontal_flip=True,brightness_range=[0.3,1.0],width_shift_range=[-10,10],height_shift_range=[0,20])\n",
    "\n",
    "\n",
    "train_generator = train_datagen.flow_from_directory('croped/train', target_size=(h, w),batch_size=batch_size,color_mode=\"grayscale\") \n",
    "validation_generator = test_datagen.flow_from_directory('croped/test',target_size=(h, w),batch_size=batch_size,color_mode=\"grayscale\")\n",
    "\n",
    "print(train_generator.samples)\n",
    "print(validation_generator.samples)\n",
    "print(train_generator.class_indices)"
   ]
  },
  {
   "cell_type": "code",
   "execution_count": 4,
   "id": "physical-watts",
   "metadata": {},
   "outputs": [
    {
     "name": "stderr",
     "output_type": "stream",
     "text": [
      "/home/uchiha/ObjectDetectionEnv/lib/python3.8/site-packages/tensorflow/python/keras/engine/training.py:1844: UserWarning: `Model.fit_generator` is deprecated and will be removed in a future version. Please use `Model.fit`, which supports generators.\n",
      "  warnings.warn('`Model.fit_generator` is deprecated and '\n"
     ]
    },
    {
     "name": "stdout",
     "output_type": "stream",
     "text": [
      "Epoch 1/60\n",
      "118/118 [==============================] - 38s 321ms/step - loss: 3.0224 - accuracy: 0.5265 - val_loss: 0.6868 - val_accuracy: 0.5053\n",
      "Epoch 2/60\n",
      "118/118 [==============================] - 40s 337ms/step - loss: 0.6650 - accuracy: 0.6402 - val_loss: 0.6856 - val_accuracy: 0.5921\n",
      "Epoch 3/60\n",
      "118/118 [==============================] - 39s 330ms/step - loss: 0.6226 - accuracy: 0.6734 - val_loss: 0.6861 - val_accuracy: 0.5684\n",
      "Epoch 4/60\n",
      "118/118 [==============================] - 39s 328ms/step - loss: 0.6048 - accuracy: 0.6715 - val_loss: 0.6467 - val_accuracy: 0.6053\n",
      "Epoch 5/60\n",
      "118/118 [==============================] - 39s 327ms/step - loss: 0.6188 - accuracy: 0.6434 - val_loss: 0.6500 - val_accuracy: 0.6000\n",
      "Epoch 6/60\n",
      "118/118 [==============================] - 39s 330ms/step - loss: 0.5755 - accuracy: 0.6980 - val_loss: 0.6007 - val_accuracy: 0.6763\n",
      "Epoch 7/60\n",
      "118/118 [==============================] - 40s 336ms/step - loss: 0.6350 - accuracy: 0.6576 - val_loss: 0.6002 - val_accuracy: 0.6763\n",
      "Epoch 8/60\n",
      "118/118 [==============================] - 39s 332ms/step - loss: 0.5382 - accuracy: 0.7461 - val_loss: 0.6587 - val_accuracy: 0.5658\n",
      "Epoch 9/60\n",
      "118/118 [==============================] - 39s 332ms/step - loss: 0.5998 - accuracy: 0.6927 - val_loss: 0.6441 - val_accuracy: 0.6237\n",
      "Epoch 10/60\n",
      "118/118 [==============================] - 40s 335ms/step - loss: 0.6181 - accuracy: 0.6670 - val_loss: 0.6071 - val_accuracy: 0.6447\n",
      "Epoch 11/60\n",
      "118/118 [==============================] - 39s 330ms/step - loss: 0.5575 - accuracy: 0.7142 - val_loss: 0.5872 - val_accuracy: 0.6711\n",
      "Epoch 12/60\n",
      "118/118 [==============================] - 39s 331ms/step - loss: 0.4948 - accuracy: 0.7626 - val_loss: 0.5995 - val_accuracy: 0.6421\n",
      "Epoch 13/60\n",
      "118/118 [==============================] - 39s 330ms/step - loss: 0.5417 - accuracy: 0.7271 - val_loss: 0.6145 - val_accuracy: 0.6684\n",
      "Epoch 14/60\n",
      "118/118 [==============================] - 39s 333ms/step - loss: 0.5664 - accuracy: 0.7427 - val_loss: 0.5489 - val_accuracy: 0.7105\n",
      "Epoch 15/60\n",
      "118/118 [==============================] - 38s 324ms/step - loss: 0.5011 - accuracy: 0.7597 - val_loss: 0.5436 - val_accuracy: 0.7263\n",
      "Epoch 16/60\n",
      "118/118 [==============================] - 39s 327ms/step - loss: 0.4597 - accuracy: 0.7849 - val_loss: 0.5345 - val_accuracy: 0.7605\n",
      "Epoch 17/60\n",
      "118/118 [==============================] - 39s 331ms/step - loss: 0.5196 - accuracy: 0.7662 - val_loss: 0.5250 - val_accuracy: 0.7316\n",
      "Epoch 18/60\n",
      "118/118 [==============================] - 39s 330ms/step - loss: 0.4864 - accuracy: 0.7850 - val_loss: 0.5691 - val_accuracy: 0.7132\n",
      "Epoch 19/60\n",
      "118/118 [==============================] - 39s 327ms/step - loss: 0.4789 - accuracy: 0.7940 - val_loss: 0.4968 - val_accuracy: 0.7711\n",
      "Epoch 20/60\n",
      "118/118 [==============================] - 39s 329ms/step - loss: 0.4415 - accuracy: 0.8174 - val_loss: 0.4673 - val_accuracy: 0.7947\n",
      "Epoch 21/60\n",
      "118/118 [==============================] - 38s 325ms/step - loss: 0.4678 - accuracy: 0.8025 - val_loss: 0.4982 - val_accuracy: 0.7579\n",
      "Epoch 22/60\n",
      "118/118 [==============================] - 39s 328ms/step - loss: 0.4293 - accuracy: 0.8036 - val_loss: 0.4669 - val_accuracy: 0.7921\n",
      "Epoch 23/60\n",
      "118/118 [==============================] - 39s 329ms/step - loss: 0.4091 - accuracy: 0.8162 - val_loss: 0.4896 - val_accuracy: 0.7921\n",
      "Epoch 24/60\n",
      "118/118 [==============================] - 39s 327ms/step - loss: 0.3629 - accuracy: 0.8489 - val_loss: 0.5156 - val_accuracy: 0.7526\n",
      "Epoch 25/60\n",
      "118/118 [==============================] - 39s 329ms/step - loss: 0.4604 - accuracy: 0.7707 - val_loss: 0.5224 - val_accuracy: 0.7579\n",
      "Epoch 26/60\n",
      "118/118 [==============================] - 38s 325ms/step - loss: 0.4040 - accuracy: 0.8290 - val_loss: 0.4763 - val_accuracy: 0.7947\n",
      "Epoch 27/60\n",
      "118/118 [==============================] - 38s 326ms/step - loss: 0.3685 - accuracy: 0.8531 - val_loss: 0.4520 - val_accuracy: 0.8447\n",
      "Epoch 28/60\n",
      "118/118 [==============================] - 39s 328ms/step - loss: 0.3267 - accuracy: 0.8710 - val_loss: 0.4824 - val_accuracy: 0.8026\n",
      "Epoch 29/60\n",
      "118/118 [==============================] - 39s 328ms/step - loss: 0.3768 - accuracy: 0.8503 - val_loss: 0.4934 - val_accuracy: 0.7789\n",
      "Epoch 30/60\n",
      "118/118 [==============================] - 38s 325ms/step - loss: 0.4396 - accuracy: 0.8326 - val_loss: 0.4782 - val_accuracy: 0.8026\n",
      "Epoch 31/60\n",
      "118/118 [==============================] - 39s 325ms/step - loss: 0.3643 - accuracy: 0.8442 - val_loss: 0.4191 - val_accuracy: 0.8026\n",
      "Epoch 32/60\n",
      "118/118 [==============================] - 39s 327ms/step - loss: 0.3749 - accuracy: 0.8347 - val_loss: 0.4784 - val_accuracy: 0.7763\n",
      "Epoch 33/60\n",
      "118/118 [==============================] - 39s 331ms/step - loss: 0.3114 - accuracy: 0.8664 - val_loss: 0.4680 - val_accuracy: 0.8105\n",
      "Epoch 34/60\n",
      "118/118 [==============================] - 39s 327ms/step - loss: 0.3266 - accuracy: 0.8757 - val_loss: 0.4028 - val_accuracy: 0.8053\n",
      "Epoch 35/60\n",
      "118/118 [==============================] - 39s 328ms/step - loss: 0.3299 - accuracy: 0.8694 - val_loss: 0.4699 - val_accuracy: 0.8289\n",
      "Epoch 36/60\n",
      "118/118 [==============================] - 39s 326ms/step - loss: 0.3594 - accuracy: 0.8409 - val_loss: 0.4116 - val_accuracy: 0.8263\n",
      "Epoch 37/60\n",
      "118/118 [==============================] - 40s 335ms/step - loss: 0.3652 - accuracy: 0.8530 - val_loss: 0.3692 - val_accuracy: 0.8368\n",
      "Epoch 38/60\n",
      "118/118 [==============================] - 39s 328ms/step - loss: 0.3517 - accuracy: 0.8461 - val_loss: 0.4703 - val_accuracy: 0.8184\n",
      "Epoch 39/60\n",
      "118/118 [==============================] - 39s 331ms/step - loss: 0.3326 - accuracy: 0.8836 - val_loss: 0.3784 - val_accuracy: 0.8553\n",
      "Epoch 40/60\n",
      "118/118 [==============================] - 40s 335ms/step - loss: 0.2895 - accuracy: 0.8764 - val_loss: 0.3863 - val_accuracy: 0.8289\n",
      "Epoch 41/60\n",
      "118/118 [==============================] - 39s 332ms/step - loss: 0.3769 - accuracy: 0.8538 - val_loss: 0.4464 - val_accuracy: 0.7947\n",
      "Epoch 42/60\n",
      "118/118 [==============================] - 39s 331ms/step - loss: 0.3291 - accuracy: 0.8864 - val_loss: 0.3619 - val_accuracy: 0.8237\n",
      "Epoch 43/60\n",
      "118/118 [==============================] - 42s 352ms/step - loss: 0.3024 - accuracy: 0.8882 - val_loss: 0.4126 - val_accuracy: 0.8237\n",
      "Epoch 44/60\n",
      "118/118 [==============================] - 40s 338ms/step - loss: 0.3330 - accuracy: 0.8568 - val_loss: 0.4305 - val_accuracy: 0.8211\n",
      "Epoch 45/60\n",
      "118/118 [==============================] - 39s 331ms/step - loss: 0.2844 - accuracy: 0.8907 - val_loss: 0.4143 - val_accuracy: 0.8316\n",
      "Epoch 46/60\n",
      "118/118 [==============================] - 40s 336ms/step - loss: 0.2636 - accuracy: 0.9044 - val_loss: 0.3595 - val_accuracy: 0.8474\n",
      "Epoch 47/60\n",
      "118/118 [==============================] - 40s 336ms/step - loss: 0.2672 - accuracy: 0.8858 - val_loss: 0.3620 - val_accuracy: 0.8368\n",
      "Epoch 48/60\n",
      "118/118 [==============================] - 39s 332ms/step - loss: 0.2741 - accuracy: 0.9004 - val_loss: 0.4202 - val_accuracy: 0.8342\n",
      "Epoch 49/60\n",
      "118/118 [==============================] - 39s 329ms/step - loss: 0.2616 - accuracy: 0.8956 - val_loss: 0.3470 - val_accuracy: 0.8500\n",
      "Epoch 50/60\n",
      "118/118 [==============================] - 40s 335ms/step - loss: 0.3111 - accuracy: 0.8719 - val_loss: 0.3791 - val_accuracy: 0.8421\n",
      "Epoch 51/60\n",
      "118/118 [==============================] - 39s 329ms/step - loss: 0.2698 - accuracy: 0.8897 - val_loss: 0.3503 - val_accuracy: 0.8526\n",
      "Epoch 52/60\n",
      "118/118 [==============================] - 41s 344ms/step - loss: 0.2523 - accuracy: 0.9135 - val_loss: 0.4206 - val_accuracy: 0.8316\n",
      "Epoch 53/60\n",
      "118/118 [==============================] - 40s 336ms/step - loss: 0.2173 - accuracy: 0.9161 - val_loss: 0.3469 - val_accuracy: 0.8737\n",
      "Epoch 54/60\n",
      "118/118 [==============================] - 39s 333ms/step - loss: 0.2721 - accuracy: 0.8954 - val_loss: 0.3937 - val_accuracy: 0.8474\n",
      "Epoch 55/60\n",
      "118/118 [==============================] - 39s 333ms/step - loss: 0.2797 - accuracy: 0.8922 - val_loss: 0.3763 - val_accuracy: 0.8500\n",
      "Epoch 56/60\n",
      "118/118 [==============================] - 39s 330ms/step - loss: 0.2229 - accuracy: 0.9153 - val_loss: 0.3030 - val_accuracy: 0.8526\n",
      "Epoch 57/60\n"
     ]
    },
    {
     "name": "stdout",
     "output_type": "stream",
     "text": [
      "118/118 [==============================] - 39s 329ms/step - loss: 0.2592 - accuracy: 0.8832 - val_loss: 0.4041 - val_accuracy: 0.8237\n",
      "Epoch 58/60\n",
      "118/118 [==============================] - 39s 331ms/step - loss: 0.2646 - accuracy: 0.8888 - val_loss: 0.3391 - val_accuracy: 0.8474\n",
      "Epoch 59/60\n",
      "118/118 [==============================] - 40s 335ms/step - loss: 0.2447 - accuracy: 0.8922 - val_loss: 0.3638 - val_accuracy: 0.8579\n",
      "Epoch 60/60\n",
      "118/118 [==============================] - 39s 332ms/step - loss: 0.2186 - accuracy: 0.9180 - val_loss: 0.3809 - val_accuracy: 0.8395\n"
     ]
    }
   ],
   "source": [
    "history = model.fit_generator(\n",
    "        train_generator,\n",
    "        steps_per_epoch=train_generator.samples // batch_size,\n",
    "        epochs=60,\n",
    "        validation_data=validation_generator,\n",
    "        validation_steps=validation_generator.samples // batch_size)\n",
    "\n",
    "\n",
    "model.save('models/version8.h5')  # always save your weights after training or during trainin\n"
   ]
  },
  {
   "cell_type": "code",
   "execution_count": 5,
   "id": "statistical-island",
   "metadata": {},
   "outputs": [
    {
     "name": "stdout",
     "output_type": "stream",
     "text": [
      "dict_keys(['loss', 'accuracy', 'val_loss', 'val_accuracy'])\n"
     ]
    },
    {
     "data": {
      "image/png": "[encoded data removed]",
      "text/plain": [
       "<Figure size 432x288 with 1 Axes>"
      ]
     },
     "metadata": {
      "needs_background": "light"
     },
     "output_type": "display_data"
    }
   ],
   "source": [
    "print(history.history.keys())\n",
    "# summarize history for accuracy\n",
    "plt.plot(history.history['accuracy'])\n",
    "plt.plot(history.history['val_accuracy'])\n",
    "plt.title('model accuracy')\n",
    "plt.ylabel('accuracy')\n",
    "plt.xlabel('epoch')\n",
    "plt.legend(['train', 'test'], loc='upper left')\n",
    "plt.show()"
   ]
  },
  {
   "cell_type": "code",
   "execution_count": 6,
   "id": "acting-netherlands",
   "metadata": {},
   "outputs": [
    {
     "data": {
      "image/png": "[encoded data removed]",
      "text/plain": [
       "<Figure size 432x288 with 1 Axes>"
      ]
     },
     "metadata": {
      "needs_background": "light"
     },
     "output_type": "display_data"
    }
   ],
   "source": [
    "# summarize history for loss\n",
    "plt.plot(history.history['loss'])\n",
    "plt.plot(history.history['val_loss'])\n",
    "plt.title('model loss')\n",
    "plt.ylabel('loss')\n",
    "plt.xlabel('epoch')\n",
    "plt.legend(['train', 'test'], loc='upper left')\n",
    "plt.show()"
   ]
  },
  {
   "cell_type": "code",
   "execution_count": null,
   "id": "otherwise-marine",
   "metadata": {},
   "outputs": [],
   "source": []
  }
 ],
 "metadata": {
  "kernelspec": {
   "display_name": "Python 3",
   "language": "python",
   "name": "python3"
  },
  "language_info": {
   "codemirror_mode": {
    "name": "ipython",
    "version": 3
   },
   "file_extension": ".py",
   "mimetype": "text/x-python",
   "name": "python",
   "nbconvert_exporter": "python",
   "pygments_lexer": "ipython3",
   "version": "3.8.5"
  }
 },
 "nbformat": 4,
 "nbformat_minor": 5
}
