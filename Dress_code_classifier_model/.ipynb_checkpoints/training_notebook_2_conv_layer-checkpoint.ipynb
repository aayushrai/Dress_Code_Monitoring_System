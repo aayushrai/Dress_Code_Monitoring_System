{
 "cells": [
  {
   "cell_type": "code",
   "execution_count": 1,
   "id": "heard-assistant",
   "metadata": {},
   "outputs": [],
   "source": [
    "from keras.preprocessing.image import ImageDataGenerator\n",
    "from keras.models import Sequential\n",
    "from keras.layers import Conv2D, MaxPooling2D\n",
    "from keras.layers import Activation, Dropout, Flatten, Dense\n",
    "from keras.optimizers import Adam\n",
    "import keras,os\n",
    "import numpy as np\n",
    "import matplotlib.pyplot as plt"
   ]
  },
  {
   "cell_type": "code",
   "execution_count": 2,
   "id": "minimal-swift",
   "metadata": {},
   "outputs": [],
   "source": [
    "h = 300\n",
    "w = 150\n",
    "    \n",
    "model = Sequential()\n",
    "model.add(Conv2D(32, (3, 3), input_shape=( h, w,1)))\n",
    "model.add(Activation('relu'))\n",
    "model.add(MaxPooling2D(pool_size=(2, 2)))\n",
    "\n",
    "model.add(Conv2D(32, (3, 3)))\n",
    "model.add(Activation('relu'))\n",
    "model.add(MaxPooling2D(pool_size=(2, 2)))\n",
    "\n",
    "# model.add(Conv2D(64, (3, 3)))\n",
    "# model.add(Activation('relu'))\n",
    "# model.add(MaxPooling2D(pool_size=(2, 2)))\n",
    "# model.add(Dropout(0.2))\n",
    "\n",
    "# model.add(Conv2D(64, (3, 3)))\n",
    "# model.add(Activation('relu'))\n",
    "# model.add(MaxPooling2D(pool_size=(2, 2)))\n",
    "# model.add(Dropout(0.2))\n",
    "\n",
    "model.add(Flatten())  # this converts our 3D feature maps to 1D feature vectors\n",
    "model.add(Dense(64))\n",
    "model.add(Activation('relu'))\n",
    "model.add(Dropout(0.3))\n",
    "model.add(Dense(2,activation='softmax'))\n",
    "\n",
    "# model.compile(loss='binary_crossentropy',optimizer='rmsprop',metrics=['accuracy'])\n",
    "\n",
    "\n",
    "# opt = Adam(lr=0.005)\n",
    "model.compile(optimizer=\"adam\", loss=keras.losses.categorical_crossentropy, metrics=['accuracy'])\n"
   ]
  },
  {
   "cell_type": "code",
   "execution_count": 3,
   "id": "talented-technical",
   "metadata": {},
   "outputs": [
    {
     "name": "stdout",
     "output_type": "stream",
     "text": [
      "Found 1360 images belonging to 2 classes.\n",
      "Found 244 images belonging to 2 classes.\n",
      "1360\n",
      "244\n",
      "{'formal': 0, 'informal': 1}\n"
     ]
    }
   ],
   "source": [
    "batch_size = 10\n",
    "\n",
    "train_datagen = ImageDataGenerator(horizontal_flip=True,brightness_range=[0.3,1.0],width_shift_range=[-10,10],height_shift_range=[0,20])\n",
    "test_datagen = ImageDataGenerator(horizontal_flip=True,brightness_range=[0.3,1.0],width_shift_range=[-10,10],height_shift_range=[0,20])\n",
    "\n",
    "\n",
    "train_generator = train_datagen.flow_from_directory('croped/train', target_size=(h, w),batch_size=batch_size,color_mode=\"grayscale\") \n",
    "validation_generator = test_datagen.flow_from_directory('croped/test',target_size=(h, w),batch_size=batch_size,color_mode=\"grayscale\")\n",
    "\n",
    "print(train_generator.samples)\n",
    "print(validation_generator.samples)\n",
    "print(train_generator.class_indices)"
   ]
  },
  {
   "cell_type": "code",
   "execution_count": 4,
   "id": "physical-watts",
   "metadata": {},
   "outputs": [
    {
     "name": "stderr",
     "output_type": "stream",
     "text": [
      "/home/uchiha/ObjectDetectionEnv/lib/python3.8/site-packages/tensorflow/python/keras/engine/training.py:1844: UserWarning: `Model.fit_generator` is deprecated and will be removed in a future version. Please use `Model.fit`, which supports generators.\n",
      "  warnings.warn('`Model.fit_generator` is deprecated and '\n"
     ]
    },
    {
     "name": "stdout",
     "output_type": "stream",
     "text": [
      "Epoch 1/50\n",
      "136/136 [==============================] - 44s 319ms/step - loss: 52.1146 - accuracy: 0.5649 - val_loss: 0.6038 - val_accuracy: 0.6542\n",
      "Epoch 2/50\n",
      "136/136 [==============================] - 40s 296ms/step - loss: 0.6077 - accuracy: 0.6989 - val_loss: 0.5880 - val_accuracy: 0.6875\n",
      "Epoch 3/50\n",
      "136/136 [==============================] - 40s 290ms/step - loss: 0.5868 - accuracy: 0.6874 - val_loss: 0.5827 - val_accuracy: 0.6542\n",
      "Epoch 4/50\n",
      "136/136 [==============================] - 41s 302ms/step - loss: 0.5527 - accuracy: 0.7160 - val_loss: 0.6516 - val_accuracy: 0.6792\n",
      "Epoch 5/50\n",
      "136/136 [==============================] - 41s 304ms/step - loss: 0.5251 - accuracy: 0.7481 - val_loss: 0.5813 - val_accuracy: 0.7208\n",
      "Epoch 6/50\n",
      "136/136 [==============================] - 41s 298ms/step - loss: 0.5082 - accuracy: 0.7480 - val_loss: 0.5505 - val_accuracy: 0.7042\n",
      "Epoch 7/50\n",
      "136/136 [==============================] - 41s 297ms/step - loss: 0.5000 - accuracy: 0.7775 - val_loss: 0.5554 - val_accuracy: 0.7417\n",
      "Epoch 8/50\n",
      "136/136 [==============================] - 50s 368ms/step - loss: 0.4569 - accuracy: 0.7888 - val_loss: 0.5162 - val_accuracy: 0.7417\n",
      "Epoch 9/50\n",
      "136/136 [==============================] - 45s 332ms/step - loss: 0.4347 - accuracy: 0.8211 - val_loss: 0.4933 - val_accuracy: 0.7583\n",
      "Epoch 10/50\n",
      "136/136 [==============================] - 43s 318ms/step - loss: 0.4366 - accuracy: 0.7938 - val_loss: 0.5395 - val_accuracy: 0.7333\n",
      "Epoch 11/50\n",
      "136/136 [==============================] - 45s 328ms/step - loss: 0.4102 - accuracy: 0.8111 - val_loss: 0.5279 - val_accuracy: 0.7375\n",
      "Epoch 12/50\n",
      "136/136 [==============================] - 45s 332ms/step - loss: 0.4289 - accuracy: 0.8062 - val_loss: 0.5818 - val_accuracy: 0.7625\n",
      "Epoch 13/50\n",
      "136/136 [==============================] - 42s 311ms/step - loss: 0.4177 - accuracy: 0.8205 - val_loss: 0.5586 - val_accuracy: 0.7500\n",
      "Epoch 14/50\n",
      "136/136 [==============================] - 46s 335ms/step - loss: 0.4584 - accuracy: 0.8127 - val_loss: 0.5495 - val_accuracy: 0.7708\n",
      "Epoch 15/50\n",
      "136/136 [==============================] - 41s 304ms/step - loss: 0.3559 - accuracy: 0.8521 - val_loss: 0.5532 - val_accuracy: 0.7750\n",
      "Epoch 16/50\n",
      "136/136 [==============================] - 45s 331ms/step - loss: 0.3653 - accuracy: 0.8347 - val_loss: 0.5006 - val_accuracy: 0.7750\n",
      "Epoch 17/50\n",
      "136/136 [==============================] - 40s 294ms/step - loss: 0.3456 - accuracy: 0.8420 - val_loss: 0.4964 - val_accuracy: 0.7500\n",
      "Epoch 18/50\n",
      "136/136 [==============================] - 40s 294ms/step - loss: 0.3572 - accuracy: 0.8634 - val_loss: 0.4074 - val_accuracy: 0.8167\n",
      "Epoch 19/50\n",
      "136/136 [==============================] - 39s 287ms/step - loss: 0.3199 - accuracy: 0.8657 - val_loss: 0.4771 - val_accuracy: 0.8000\n",
      "Epoch 20/50\n",
      "136/136 [==============================] - 39s 286ms/step - loss: 0.3190 - accuracy: 0.8746 - val_loss: 0.4554 - val_accuracy: 0.8167\n",
      "Epoch 21/50\n",
      "136/136 [==============================] - 39s 287ms/step - loss: 0.3337 - accuracy: 0.8711 - val_loss: 0.4720 - val_accuracy: 0.8167\n",
      "Epoch 22/50\n",
      "136/136 [==============================] - 42s 304ms/step - loss: 0.3568 - accuracy: 0.8505 - val_loss: 0.4851 - val_accuracy: 0.8208\n",
      "Epoch 23/50\n",
      "136/136 [==============================] - 41s 300ms/step - loss: 0.3189 - accuracy: 0.8816 - val_loss: 0.4882 - val_accuracy: 0.7875\n",
      "Epoch 24/50\n",
      "136/136 [==============================] - 40s 289ms/step - loss: 0.3198 - accuracy: 0.8916 - val_loss: 0.3977 - val_accuracy: 0.8167\n",
      "Epoch 25/50\n",
      "136/136 [==============================] - 39s 283ms/step - loss: 0.3103 - accuracy: 0.8828 - val_loss: 0.5355 - val_accuracy: 0.8000\n",
      "Epoch 26/50\n",
      "136/136 [==============================] - 39s 290ms/step - loss: 0.2631 - accuracy: 0.8974 - val_loss: 0.4299 - val_accuracy: 0.8583\n",
      "Epoch 27/50\n",
      "136/136 [==============================] - 39s 287ms/step - loss: 0.2870 - accuracy: 0.8934 - val_loss: 0.4174 - val_accuracy: 0.8417\n",
      "Epoch 28/50\n",
      "136/136 [==============================] - 39s 282ms/step - loss: 0.2688 - accuracy: 0.8989 - val_loss: 0.4862 - val_accuracy: 0.8000\n",
      "Epoch 29/50\n",
      "136/136 [==============================] - 43s 316ms/step - loss: 0.3179 - accuracy: 0.8727 - val_loss: 0.4494 - val_accuracy: 0.8125\n",
      "Epoch 30/50\n",
      "136/136 [==============================] - 39s 285ms/step - loss: 0.2381 - accuracy: 0.8992 - val_loss: 0.4608 - val_accuracy: 0.8292\n",
      "Epoch 31/50\n",
      "136/136 [==============================] - 40s 297ms/step - loss: 0.2827 - accuracy: 0.8763 - val_loss: 0.4249 - val_accuracy: 0.8417\n",
      "Epoch 32/50\n",
      "136/136 [==============================] - 39s 283ms/step - loss: 0.2580 - accuracy: 0.9003 - val_loss: 0.4683 - val_accuracy: 0.8500\n",
      "Epoch 33/50\n",
      "136/136 [==============================] - 39s 285ms/step - loss: 0.2146 - accuracy: 0.9229 - val_loss: 0.6664 - val_accuracy: 0.7833\n",
      "Epoch 34/50\n",
      "136/136 [==============================] - 38s 279ms/step - loss: 0.3171 - accuracy: 0.8909 - val_loss: 0.4446 - val_accuracy: 0.8208\n",
      "Epoch 35/50\n",
      "136/136 [==============================] - 38s 276ms/step - loss: 0.2400 - accuracy: 0.9094 - val_loss: 0.5135 - val_accuracy: 0.8500\n",
      "Epoch 36/50\n",
      "136/136 [==============================] - 41s 300ms/step - loss: 0.2300 - accuracy: 0.8965 - val_loss: 0.5698 - val_accuracy: 0.8167\n",
      "Epoch 37/50\n",
      "136/136 [==============================] - 38s 281ms/step - loss: 0.2352 - accuracy: 0.9195 - val_loss: 0.3149 - val_accuracy: 0.8583\n",
      "Epoch 38/50\n",
      "136/136 [==============================] - 38s 282ms/step - loss: 0.1839 - accuracy: 0.9352 - val_loss: 0.6229 - val_accuracy: 0.8250\n",
      "Epoch 39/50\n",
      "136/136 [==============================] - 38s 282ms/step - loss: 0.1868 - accuracy: 0.9241 - val_loss: 0.4307 - val_accuracy: 0.8500\n",
      "Epoch 40/50\n",
      "136/136 [==============================] - 39s 286ms/step - loss: 0.1812 - accuracy: 0.9287 - val_loss: 0.5661 - val_accuracy: 0.8292\n",
      "Epoch 41/50\n",
      "136/136 [==============================] - 42s 305ms/step - loss: 0.2395 - accuracy: 0.9037 - val_loss: 0.6076 - val_accuracy: 0.8208\n",
      "Epoch 42/50\n",
      "136/136 [==============================] - 39s 288ms/step - loss: 0.1673 - accuracy: 0.9375 - val_loss: 0.5261 - val_accuracy: 0.8292\n",
      "Epoch 43/50\n",
      "136/136 [==============================] - 38s 281ms/step - loss: 0.2003 - accuracy: 0.9279 - val_loss: 0.3926 - val_accuracy: 0.8667\n",
      "Epoch 44/50\n",
      "136/136 [==============================] - 39s 286ms/step - loss: 0.1840 - accuracy: 0.9350 - val_loss: 0.6427 - val_accuracy: 0.7875\n",
      "Epoch 45/50\n",
      "136/136 [==============================] - 39s 285ms/step - loss: 0.1591 - accuracy: 0.9449 - val_loss: 0.3285 - val_accuracy: 0.8833\n",
      "Epoch 46/50\n",
      "136/136 [==============================] - 38s 282ms/step - loss: 0.1940 - accuracy: 0.9323 - val_loss: 0.5178 - val_accuracy: 0.8417\n",
      "Epoch 47/50\n",
      "136/136 [==============================] - 38s 281ms/step - loss: 0.1673 - accuracy: 0.9327 - val_loss: 0.6114 - val_accuracy: 0.8375\n",
      "Epoch 48/50\n",
      "136/136 [==============================] - 39s 283ms/step - loss: 0.1479 - accuracy: 0.9560 - val_loss: 0.6004 - val_accuracy: 0.8292\n",
      "Epoch 49/50\n",
      "136/136 [==============================] - 38s 282ms/step - loss: 0.1423 - accuracy: 0.9524 - val_loss: 0.4167 - val_accuracy: 0.8542\n",
      "Epoch 50/50\n",
      "136/136 [==============================] - 39s 286ms/step - loss: 0.1851 - accuracy: 0.9384 - val_loss: 0.8720 - val_accuracy: 0.8292\n"
     ]
    }
   ],
   "source": [
    "history = model.fit_generator(\n",
    "        train_generator,\n",
    "        steps_per_epoch=train_generator.samples // batch_size,\n",
    "        epochs=50,\n",
    "        validation_data=validation_generator,\n",
    "        validation_steps=validation_generator.samples // batch_size)\n",
    "\n",
    "\n",
    "model.save('models/version5.h5')  # always save your weights after training or during trainin\n"
   ]
  },
  {
   "cell_type": "code",
   "execution_count": 5,
   "id": "statistical-island",
   "metadata": {},
   "outputs": [
    {
     "name": "stdout",
     "output_type": "stream",
     "text": [
      "dict_keys(['loss', 'accuracy', 'val_loss', 'val_accuracy'])\n"
     ]
    },
    {
     "data": {
      "image/png": "[encoded data removed]",
      "text/plain": [
       "<Figure size 432x288 with 1 Axes>"
      ]
     },
     "metadata": {
      "needs_background": "light"
     },
     "output_type": "display_data"
    }
   ],
   "source": [
    "print(history.history.keys())\n",
    "# summarize history for accuracy\n",
    "plt.plot(history.history['accuracy'])\n",
    "plt.plot(history.history['val_accuracy'])\n",
    "plt.title('model accuracy')\n",
    "plt.ylabel('accuracy')\n",
    "plt.xlabel('epoch')\n",
    "plt.legend(['train', 'test'], loc='upper left')\n",
    "plt.show()"
   ]
  },
  {
   "cell_type": "code",
   "execution_count": 6,
   "id": "acting-netherlands",
   "metadata": {},
   "outputs": [
    {
     "data": {
      "image/png": "[encoded data removed]",
      "text/plain": [
       "<Figure size 432x288 with 1 Axes>"
      ]
     },
     "metadata": {
      "needs_background": "light"
     },
     "output_type": "display_data"
    }
   ],
   "source": [
    "# summarize history for loss\n",
    "plt.plot(history.history['loss'])\n",
    "plt.plot(history.history['val_loss'])\n",
    "plt.title('model loss')\n",
    "plt.ylabel('loss')\n",
    "plt.xlabel('epoch')\n",
    "plt.legend(['train', 'test'], loc='upper left')\n",
    "plt.show()"
   ]
  },
  {
   "cell_type": "code",
   "execution_count": null,
   "id": "otherwise-marine",
   "metadata": {},
   "outputs": [],
   "source": []
  }
 ],
 "metadata": {
  "kernelspec": {
   "display_name": "Python 3",
   "language": "python",
   "name": "python3"
  },
  "language_info": {
   "codemirror_mode": {
    "name": "ipython",
    "version": 3
   },
   "file_extension": ".py",
   "mimetype": "text/x-python",
   "name": "python",
   "nbconvert_exporter": "python",
   "pygments_lexer": "ipython3",
   "version": "3.8.5"
  }
 },
 "nbformat": 4,
 "nbformat_minor": 5
}
